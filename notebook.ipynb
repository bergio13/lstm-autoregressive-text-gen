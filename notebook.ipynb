{
  "cells": [
    {
      "cell_type": "markdown",
      "metadata": {
        "id": "BwfXT98e5hQc"
      },
      "source": [
        "# Recurrent neural networks and autoregressive modelling"
      ]
    },
    {
      "cell_type": "code",
      "execution_count": null,
      "metadata": {
        "colab": {
          "base_uri": "https://localhost:8080/"
        },
        "id": "5V6Ph3UT44Xo",
        "outputId": "2c42b9c5-a15b-456f-dc08-8136c10e5656"
      },
      "outputs": [
        {
          "name": "stdout",
          "output_type": "stream",
          "text": [
            "Mounted at /content/drive\n"
          ]
        }
      ],
      "source": [
        "import jax\n",
        "import jax.numpy as jnp\n",
        "import jax.random as jrand\n",
        "import matplotlib.pyplot as plt\n",
        "import numpy as np\n",
        "import pandas as pd\n",
        "import ast\n",
        "import optax\n",
        "import pickle\n",
        "from sklearn.decomposition import PCA\n",
        "from sklearn.preprocessing import StandardScaler\n",
        "import string\n",
        "from collections import Counter\n",
        "import flax.serialization\n",
        "from google.colab import drive\n",
        "from sklearn.metrics.pairwise import cosine_similarity\n",
        "from sklearn.manifold import TSNE\n",
        "import seaborn as sns\n",
        "\n",
        "drive.mount('/content/drive')"
      ]
    },
    {
      "cell_type": "markdown",
      "metadata": {
        "id": "fzThDtr4VJ5x"
      },
      "source": [
        "## Data Loading\n",
        "\n",
        "The dataset is taken from [Kaggle](https://www.kaggle.com/datasets/paultimothymooney/recipenlg). It is called **RecipeNLG** and it is a cooking recipes dataset for semi-structured text generation. It contains 2,231,142 cooking recipes. It appears as a dataframe with 2,231,142 rowsn and 6 columns `[\"title\", \"ingredients\", \"directions\", \"link\", \"source\", \"NER\"]`. I preprocessed it on Kaggle notebooks as the amount of memory required for some operations exceeded the Colab limits. First I parsed the recipes and formatted them adding some special characters like RECIPE_START, STEP, ... in order to make the text more structured. I then uploaded the resulting text on [Kaggle](https://www.kaggle.com/datasets/giochelavaipiatti/recipes-tokenized?select=recipes_formatted_improved.txt). Next, I tokenized the text since NN cannot process raw text. My choice was to go with **character level** tokenization, inspired by [this blogpost by Karapathy](https://karpathy.github.io/2015/05/21/rnn-effectiveness/). Morevoer, I defined special tokens explicitly and tokenized them without breaking them into chars. Next, since the vocabulary size was very big but many tokens rarely occured, I substituted all tokens that appeared less then a threshold with a special token. This significantly helped the model to converge faster."
      ]
    },
    {
      "cell_type": "markdown",
      "metadata": {
        "id": "3NQtJe9c4b1N"
      },
      "source": [
        "In this cell I write all the code I used on Kaggle to handle the df, parse, process and tokenize.\n",
        "\n",
        "```\n",
        "# Load data\n",
        "df = pd.read_csv(\"/kaggle/input/recipenlg/RecipeNLG_dataset.csv\")\n",
        "\n",
        "# Since this resulted in a df with 2231142 rows and 7 columns [\"Unnamed: 0\", \"title\",\"ingredients\",\t\"directions\", \"link\", \"source\", \"NER\"]\n",
        "# I reduced its size\n",
        "df_cut = df.iloc[len(df) // 2:]\n",
        "\n",
        "# Parse string of list as list\n",
        "df_cut['ingredients'] = df_cut['ingredients'].apply(ast.literal_eval)\n",
        "df_cut['directions'] = df_cut['directions'].apply(ast.literal_eval)\n",
        "\n",
        "# Function to format recipes\n",
        "def format_recipe(title, ingredients, instructions):\n",
        "    ingredients_text = \"\\n\".join(f\"- {ing}\" for ing in ingredients)\n",
        "    # Add <STEP> and </STEP> around each instruction\n",
        "    steps_text = \"\\n\".join(f\"<STEP> {i+1}. {step} </STEP>\" for i, step in enumerate(instructions))\n",
        "\n",
        "    return (\n",
        "        f\"<RECIPE_START>\\n\"\n",
        "        f\"<TITLE_START> {title} <TITLE_END>\\n\"\n",
        "        f\"<INGREDIENTS_START>\\n{ingredients_text}\\n<INGREDIENTS_END>\\n\"\n",
        "        f\"<INSTRUCTIONS_START>\\n{steps_text}\\n<INSTRUCTIONS_END>\\n\"\n",
        "        f\"<RECIPE_END>\"\n",
        "    )\n",
        "\n",
        "# Apply formatting to data\n",
        "formatted_recipes = df_cut.apply(\n",
        "    lambda row: format_recipe(row['title'], row['ingredients'], row['directions']), axis=1\n",
        ")\n",
        "\n",
        "with open(\"recipes_formatted_improved.txt\", \"w\", encoding=\"utf-8\") as f:\n",
        "    f.write(\"\\n\\n\".join(formatted_recipes))\n",
        "\n",
        "text = open(\"/kaggle/input/recipe-improv/recipes_formatted_improved.txt\", encoding=\"utf-8\").read()\n",
        "\n",
        "# Define explicit special tokens\n",
        "special_tokens = ['<PAD>', '<UNK>', '<RECIPE_START>', '<RECIPE_END>',\n",
        "                  '<TITLE_START>', '<TITLE_END>', '<INGREDIENTS_START>', '<INGREDIENTS_END>',\n",
        "                  '<INSTRUCTIONS_START>', '<INSTRUCTIONS_END>', '<STEP>','</STEP>']\n",
        "\n",
        "# Combine existing chars with special tokens, ensure uniqueness, and sort\n",
        "all_chars = sorted(list(set(text) - set(special_tokens)))\n",
        "final_chars = special_tokens + all_chars\n",
        "\n",
        "# Create vocabulary\n",
        "str_to_int = {ch:i for i, ch in enumerate(final_chars)}\n",
        "int_to_str = {i:ch for ch, i in str_to_int.items()}\n",
        "\n",
        "# Save vocabulary (uploaded on Kaggle)\n",
        "with open(\"vocab_improv.pkl\", \"wb\") as f:\n",
        "    pickle.dump((str_to_int, int_to_str), f)\n",
        "\n",
        "#### Encoding\n",
        "def encode_text_with_special_tokens(text_to_encode, str_to_int_map, special_tokens_list):\n",
        "    encoded_indices = []\n",
        "    i = 0\n",
        "    max_special_token_len = max(len(tok) for tok in special_tokens_list) if special_tokens_list else 0\n",
        "\n",
        "    while i < len(text_to_encode):\n",
        "        matched_special_token = None\n",
        "        # Try to match the longest special token first\n",
        "        for token in sorted(special_tokens_list, key=len, reverse=True):\n",
        "            if text_to_encode.startswith(token, i):\n",
        "                matched_special_token = token\n",
        "                break\n",
        "\n",
        "        if matched_special_token:\n",
        "            encoded_indices.append(str_to_int_map[matched_special_token])\n",
        "            i += len(matched_special_token)\n",
        "        else:\n",
        "            # Fallback to individual character\n",
        "            char = text_to_encode[i]\n",
        "            encoded_indices.append(str_to_int_map.get(char, str_to_int_map['<UNK>']))\n",
        "            i += 1\n",
        "\n",
        "    return jnp.array(encoded_indices)\n",
        "\n",
        "# Save encoded text (uploaded on Kaggle)\n",
        "with open(\"/kaggle/input/recipe-improv/recipes_formatted_improved.txt\", \"r\", encoding=\"utf-8\") as f_in, open(\"tokenized_improved.bin\", \"wb\") as f_out:\n",
        "    while True:\n",
        "        chunk = f_in.read(10_000)\n",
        "        if not chunk:\n",
        "            break\n",
        "        encoded = np.array(encode_text_with_special_tokens(chunk, str_to_int, special_tokens), dtype=np.uint16)\n",
        "        f_out.write(encoded.tobytes())\n",
        "```\n",
        "\n"
      ]
    },
    {
      "cell_type": "markdown",
      "metadata": {
        "id": "EpJt2Y17KqLS"
      },
      "source": [
        "#### Further Pre-processing"
      ]
    },
    {
      "cell_type": "code",
      "execution_count": null,
      "metadata": {
        "id": "T9CxOOd9KsrO"
      },
      "outputs": [],
      "source": [
        "token_path = \"/content/drive/MyDrive/Colab Notebooks/NNDS_fh/tokenized_improved.bin\"\n",
        "vocab_path = \"/content/drive/MyDrive/Colab Notebooks/NNDS_fh/vocab_improv.pkl\"\n",
        "\n",
        "encoded = np.fromfile(token_path, dtype=np.uint16)\n",
        "\n",
        "with open(vocab_path, \"rb\") as f:\n",
        "    str_to_int, int_to_str = pickle.load(f)"
      ]
    },
    {
      "cell_type": "code",
      "execution_count": null,
      "metadata": {
        "colab": {
          "base_uri": "https://localhost:8080/"
        },
        "id": "NxDQD8yQeFY5",
        "outputId": "fab73788-c556-476f-d0be-8cd2153c7987"
      },
      "outputs": [
        {
          "name": "stdout",
          "output_type": "stream",
          "text": [
            "Encoded sequence length: 1184350393\n",
            "First 100 tokens: \n",
            " [  2  16   4  22  57  94  95  89  97  91 100  22  55 100  90  22  73  87\n",
            " 107 105  87  93  91  22  64  87  99  88  87  98  87 111  87  22   5  16\n",
            "   6  16  35  22  39  37  40  22  97  93  22  89  94  95  89  97  91 100\n",
            "  22 106  94  95  93  94  22  92  95  98  98  91 106  34  22  90  95  89\n",
            "  91  90  16  35  22 106 101 100 111  22  89  94  87  89  94  91 104  91\n",
            "  29 105  22  89 104  91 101  98  91  22]\n"
          ]
        }
      ],
      "source": [
        "print(\"Encoded sequence length:\", len(encoded))\n",
        "print(\"First 100 tokens: \\n\",encoded[:100])"
      ]
    },
    {
      "cell_type": "code",
      "execution_count": null,
      "metadata": {
        "colab": {
          "base_uri": "https://localhost:8080/",
          "height": 472
        },
        "id": "Zh7rZLhilz7s",
        "outputId": "d8d8d4e8-9015-4cc2-baee-fadf0b1850fc"
      },
      "outputs": [
        {
          "data": {
            "image/png": "[encoded data removed]",
            "text/plain": [
              "<Figure size 640x480 with 1 Axes>"
            ]
          },
          "metadata": {},
          "output_type": "display_data"
        }
      ],
      "source": [
        "# Plot distribution of tokens\n",
        "\n",
        "plt.hist(encoded, bins=50, density=True, alpha=0.7)\n",
        "plt.title(\"Distribution of Tokens\")\n",
        "plt.xlabel(\"Token\")\n",
        "plt.ylabel(\"Density\")\n",
        "plt.show()"
      ]
    },
    {
      "cell_type": "code",
      "execution_count": null,
      "metadata": {
        "colab": {
          "base_uri": "https://localhost:8080/"
        },
        "id": "M_BCJreWeUlP",
        "outputId": "214da5e6-865f-477e-daf4-a6543b1cd50b"
      },
      "outputs": [
        {
          "name": "stdout",
          "output_type": "stream",
          "text": [
            "Vocabulary: {'<PAD>': 0, '<UNK>': 1, '<RECIPE_START>': 2, '<RECIPE_END>': 3, '<TITLE_START>': 4, '<TITLE_END>': 5, '<INGREDIENTS_START>': 6, '<INGREDIENTS_END>': 7, '<INSTRUCTIONS_START>': 8, '<INSTRUCTIONS_END>': 9, '<STEP>': 10, '</STEP>': 11, '\\x00': 12, '\\x03': 13, '\\x08': 14, '\\t': 15, '\\n': 16, '\\x0b': 17, '\\x10': 18, '\\x11': 19, '\\x1b': 20, '\\x1f': 21, ' ': 22, '!': 23, '\"': 24, '#': 25, '$': 26, '%': 27, '&': 28, \"'\": 29, '(': 30, ')': 31, '*': 32, '+': 33, ',': 34, '-': 35, '.': 36, '/': 37, '0': 38, '1': 39, '2': 40, '3': 41, '4': 42, '5': 43, '6': 44, '7': 45, '8': 46, '9': 47, ':': 48, ';': 49, '<': 50, '=': 51, '>': 52, '?': 53, '@': 54, 'A': 55, 'B': 56, 'C': 57, 'D': 58, 'E': 59, 'F': 60, 'G': 61, 'H': 62, 'I': 63, 'J': 64, 'K': 65, 'L': 66, 'M': 67, 'N': 68, 'O': 69, 'P': 70, 'Q': 71, 'R': 72, 'S': 73, 'T': 74, 'U': 75, 'V': 76, 'W': 77, 'X': 78, 'Y': 79, 'Z': 80, '[': 81, '\\\\': 82, ']': 83, '^': 84, '_': 85, '`': 86, 'a': 87, 'b': 88, 'c': 89, 'd': 90, 'e': 91, 'f': 92, 'g': 93, 'h': 94, 'i': 95, 'j': 96, 'k': 97, 'l': 98, 'm': 99, 'n': 100, 'o': 101, 'p': 102, 'q': 103, 'r': 104, 's': 105, 't': 106, 'u': 107, 'v': 108, 'w': 109, 'x': 110, 'y': 111, 'z': 112, '{': 113, '|': 114, '}': 115, '~': 116, '\\x7f': 117, '\\x80': 118, '\\x8c': 119, '\\x8e': 120, '\\x91': 121, '\\x92': 122, '\\x93': 123, '\\x94': 124, '\\x95': 125, '\\x96': 126, '\\x97': 127, '\\x99': 128, '\\x9c': 129, '\\x9d': 130, '\\xa0': 131, '¢': 132, '£': 133, '¨': 134, '©': 135, 'ª': 136, '«': 137, '\\xad': 138, '®': 139, '°': 140, '±': 141, '´': 142, '¸': 143, '¹': 144, '»': 145, '½': 146, '¿': 147, 'À': 148, 'Á': 149, 'Â': 150, 'Ä': 151, 'Å': 152, 'Æ': 153, 'Ç': 154, 'È': 155, 'É': 156, 'Ê': 157, 'Ë': 158, 'Ì': 159, 'Í': 160, 'Î': 161, 'Ï': 162, 'Ö': 163, '×': 164, 'Ø': 165, 'Ü': 166, 'Ý': 167, 'ß': 168, 'à': 169, 'á': 170, 'â': 171, 'ã': 172, 'ä': 173, 'å': 174, 'æ': 175, 'ç': 176, 'è': 177, 'é': 178, 'ê': 179, 'ë': 180, 'ì': 181, 'í': 182, 'î': 183, 'ï': 184, 'ð': 185, 'ñ': 186, 'ò': 187, 'ó': 188, 'ô': 189, 'õ': 190, 'ö': 191, 'ø': 192, 'ù': 193, 'ú': 194, 'û': 195, 'ü': 196, 'ý': 197, 'ā': 198, 'ă': 199, 'ą': 200, 'Ć': 201, 'ć': 202, 'Č': 203, 'č': 204, 'Đ': 205, 'ğ': 206, 'ī': 207, 'İ': 208, 'ı': 209, 'ł': 210, 'ń': 211, 'ō': 212, 'Œ': 213, 'ş': 214, 'Š': 215, 'š': 216, 'ů': 217, 'ű': 218, 'ž': 219, 'ư': 220, 'ǎ': 221, 'ș': 222, '˜': 223, '̀': 224, '́': 225, '̂': 226, '̃': 227, '̄': 228, '̈': 229, '̉': 230, '̊': 231, '̌': 232, '̛': 233, '̧': 234, '̨': 235, 'Β': 236, 'Κ': 237, 'Μ': 238, 'ε': 239, 'ι': 240, 'π': 241, 'τ': 242, 'φ': 243, 'Б': 244, 'Г': 245, 'Е': 246, 'Ж': 247, 'К': 248, 'М': 249, 'П': 250, 'Р': 251, 'С': 252, 'Т': 253, 'Ш': 254, 'а': 255, 'в': 256, 'г': 257, 'д': 258, 'е': 259, 'з': 260, 'и': 261, 'й': 262, 'к': 263, 'л': 264, 'м': 265, 'н': 266, 'о': 267, 'р': 268, 'с': 269, 'т': 270, 'у': 271, 'ч': 272, 'ш': 273, 'ы': 274, 'ь': 275, 'ө': 276, 'ב': 277, 'ד': 278, 'ה': 279, 'ו': 280, 'ז': 281, 'י': 282, 'כ': 283, 'ל': 284, 'מ': 285, 'ן': 286, 'נ': 287, 'ר': 288, 'ש': 289, 'ת': 290, 'ا': 291, 'ب': 292, 'ة': 293, 'ت': 294, 'ج': 295, 'خ': 296, 'د': 297, 'ر': 298, 'ز': 299, 'س': 300, 'ش': 301, 'ص': 302, 'ض': 303, 'ط': 304, 'ع': 305, 'ف': 306, 'ق': 307, 'ك': 308, 'ل': 309, 'م': 310, 'ن': 311, 'ه': 312, 'و': 313, 'ي': 314, 'ّ': 315, 'ٔ': 316, 'ی': 317, 'उ': 318, 'क': 319, 'त': 320, 'ध': 321, 'न': 322, 'प': 323, 'ब': 324, 'म': 325, 'व': 326, 'ा': 327, 'ि': 328, 'ी': 329, 'े': 330, '्': 331, 'জ': 332, 'ড': 333, 'ঢ': 334, 'ব': 335, 'ভ': 336, 'স': 337, '়': 338, 'া': 339, 'ি': 340, 'ে': 341, 'ก': 342, 'ด': 343, 'ผ': 344, 'พ': 345, 'ม': 346, 'ร': 347, 'ห': 348, 'ะ': 349, 'ั': 350, 'า': 351, 'ู': 352, 'เ': 353, 'ᄀ': 354, 'ᄁ': 355, 'ᄂ': 356, 'ᄃ': 357, 'ᄆ': 358, 'ᄇ': 359, 'ᄉ': 360, 'ᄊ': 361, 'ᄋ': 362, 'ᄌ': 363, 'ᄎ': 364, 'ᄏ': 365, 'ᄒ': 366, 'ᅡ': 367, 'ᅢ': 368, 'ᅣ': 369, 'ᅩ': 370, 'ᅮ': 371, 'ᅳ': 372, 'ᅵ': 373, 'ᆨ': 374, 'ᆫ': 375, 'ᆯ': 376, 'ᆰ': 377, 'ᆷ': 378, 'ᆼ': 379, 'ả': 380, 'ấ': 381, 'ế': 382, 'ị': 383, 'ỏ': 384, 'ố': 385, 'ỗ': 386, 'ộ': 387, 'ớ': 388, 'ở': 389, 'ủ': 390, 'ứ': 391, 'ừ': 392, 'ữ': 393, '\\u2004': 394, '\\u2009': 395, '\\u200b': 396, '\\u200e': 397, '\\u200f': 398, '‑': 399, '–': 400, '—': 401, '‘': 402, '’': 403, '“': 404, '”': 405, '•': 406, '…': 407, '\\u2028': 408, '\\u202c': 409, '″': 410, '€': 411, '℃': 412, '™': 413, '☺': 414, '♥': 415, '\\u3000': 416, '【': 417, '】': 418, 'う': 419, 'お': 420, 'き': 421, 'ぎ': 422, 'し': 423, 'ち': 424, 'ど': 425, 'に': 426, 'ぶ': 427, 'ゃ': 428, 'ら': 429, 'り': 430, 'ん': 431, '゙': 432, 'イ': 433, 'オ': 434, 'カ': 435, 'ク': 436, 'コ': 437, 'サ': 438, 'ザ': 439, 'シ': 440, 'ス': 441, 'ダ': 442, 'チ': 443, 'ツ': 444, 'テ': 445, 'ト': 446, 'ナ': 447, 'ピ': 448, 'ム': 449, 'ュ': 450, 'ョ': 451, 'ラ': 452, 'リ': 453, 'レ': 454, 'ー': 455, '丁': 456, '三': 457, '丝': 458, '丸': 459, '丼': 460, '乳': 461, '仁': 462, '伊': 463, '余': 464, '保': 465, '八': 466, '冰': 467, '冷': 468, '割': 469, '包': 470, '午': 471, '卤': 472, '卵': 473, '台': 474, '叶': 475, '圓': 476, '块': 477, '堡': 478, '大': 479, '太': 480, '头': 481, '奴': 482, '婆': 483, '子': 484, '宝': 485, '宫': 486, '密': 487, '小': 488, '干': 489, '年': 490, '式': 491, '手': 492, '抽': 493, '拍': 494, '明': 495, '月': 496, '有': 497, '松': 498, '果': 499, '柚': 500, '椰': 501, '榴': 502, '水': 503, '汁': 504, '汤': 505, '油': 506, '泰': 507, '清': 508, '湯': 509, '滷': 510, '炒': 511, '炸': 512, '烧': 513, '焼': 514, '煎': 515, '煲': 516, '煸': 517, '熊': 518, '燉': 519, '燒': 520, '片': 521, '牛': 522, '猫': 523, '珍': 524, '珠': 525, '球': 526, '瓜': 527, '甜': 528, '生': 529, '田': 530, '皮': 531, '砂': 532, '米': 533, '粉': 534, '粥': 535, '粿': 536, '糊': 537, '糍': 538, '糕': 539, '糖': 540, '糯': 541, '紅': 542, '素': 543, '綠': 544, '翅': 545, '肉': 546, '脯': 547, '腐': 548, '腿': 549, '色': 550, '芝': 551, '芥': 552, '花': 553, '苦': 554, '茶': 555, '茸': 556, '菜': 557, '菠': 558, '蒸': 559, '蓮': 560, '薑': 561, '薯': 562, '蘭': 563, '蘿': 564, '虾': 565, '蛋': 566, '蛤': 567, '蜊': 568, '豆': 569, '辣': 570, '通': 571, '酥': 572, '酱': 573, '酸': 574, '鈴': 575, '面': 576, '韭': 577, '頭': 578, '飯': 579, '餃': 580, '餐': 581, '饅': 582, '饨': 583, '饭': 584, '饼': 585, '馄': 586, '馒': 587, '馬': 588, '鮨': 589, '鮹': 590, '鱼': 591, '鲜': 592, '鶏': 593, '鸡': 594, '麦': 595, '麵': 596, '麻': 597, '黄': 598, '갈': 599, '개': 600, '골': 601, '과': 602, '국': 603, '김': 604, '깨': 605, '닭': 606, '대': 607, '두': 608, '들': 609, '무': 610, '미': 611, '밥': 612, '뱅': 613, '부': 614, '비': 615, '생': 616, '수': 617, '순': 618, '역': 619, '육': 620, '이': 621, '일': 622, '잔': 623, '장': 624, '죽': 625, '찌': 626, '채': 627, '치': 628, '침': 629, '탕': 630, '\\uf04a': 631, 'ﬂ': 632, '\\ufeff': 633, '＆': 634, '（': 635, '）': 636, '￼': 637, '🍹': 638, '🎃': 639, '💙': 640, '😉': 641, '🤠': 642}\n",
            "Inverse vocabulary: {0: '<PAD>', 1: '<UNK>', 2: '<RECIPE_START>', 3: '<RECIPE_END>', 4: '<TITLE_START>', 5: '<TITLE_END>', 6: '<INGREDIENTS_START>', 7: '<INGREDIENTS_END>', 8: '<INSTRUCTIONS_START>', 9: '<INSTRUCTIONS_END>', 10: '<STEP>', 11: '</STEP>', 12: '\\x00', 13: '\\x03', 14: '\\x08', 15: '\\t', 16: '\\n', 17: '\\x0b', 18: '\\x10', 19: '\\x11', 20: '\\x1b', 21: '\\x1f', 22: ' ', 23: '!', 24: '\"', 25: '#', 26: '$', 27: '%', 28: '&', 29: \"'\", 30: '(', 31: ')', 32: '*', 33: '+', 34: ',', 35: '-', 36: '.', 37: '/', 38: '0', 39: '1', 40: '2', 41: '3', 42: '4', 43: '5', 44: '6', 45: '7', 46: '8', 47: '9', 48: ':', 49: ';', 50: '<', 51: '=', 52: '>', 53: '?', 54: '@', 55: 'A', 56: 'B', 57: 'C', 58: 'D', 59: 'E', 60: 'F', 61: 'G', 62: 'H', 63: 'I', 64: 'J', 65: 'K', 66: 'L', 67: 'M', 68: 'N', 69: 'O', 70: 'P', 71: 'Q', 72: 'R', 73: 'S', 74: 'T', 75: 'U', 76: 'V', 77: 'W', 78: 'X', 79: 'Y', 80: 'Z', 81: '[', 82: '\\\\', 83: ']', 84: '^', 85: '_', 86: '`', 87: 'a', 88: 'b', 89: 'c', 90: 'd', 91: 'e', 92: 'f', 93: 'g', 94: 'h', 95: 'i', 96: 'j', 97: 'k', 98: 'l', 99: 'm', 100: 'n', 101: 'o', 102: 'p', 103: 'q', 104: 'r', 105: 's', 106: 't', 107: 'u', 108: 'v', 109: 'w', 110: 'x', 111: 'y', 112: 'z', 113: '{', 114: '|', 115: '}', 116: '~', 117: '\\x7f', 118: '\\x80', 119: '\\x8c', 120: '\\x8e', 121: '\\x91', 122: '\\x92', 123: '\\x93', 124: '\\x94', 125: '\\x95', 126: '\\x96', 127: '\\x97', 128: '\\x99', 129: '\\x9c', 130: '\\x9d', 131: '\\xa0', 132: '¢', 133: '£', 134: '¨', 135: '©', 136: 'ª', 137: '«', 138: '\\xad', 139: '®', 140: '°', 141: '±', 142: '´', 143: '¸', 144: '¹', 145: '»', 146: '½', 147: '¿', 148: 'À', 149: 'Á', 150: 'Â', 151: 'Ä', 152: 'Å', 153: 'Æ', 154: 'Ç', 155: 'È', 156: 'É', 157: 'Ê', 158: 'Ë', 159: 'Ì', 160: 'Í', 161: 'Î', 162: 'Ï', 163: 'Ö', 164: '×', 165: 'Ø', 166: 'Ü', 167: 'Ý', 168: 'ß', 169: 'à', 170: 'á', 171: 'â', 172: 'ã', 173: 'ä', 174: 'å', 175: 'æ', 176: 'ç', 177: 'è', 178: 'é', 179: 'ê', 180: 'ë', 181: 'ì', 182: 'í', 183: 'î', 184: 'ï', 185: 'ð', 186: 'ñ', 187: 'ò', 188: 'ó', 189: 'ô', 190: 'õ', 191: 'ö', 192: 'ø', 193: 'ù', 194: 'ú', 195: 'û', 196: 'ü', 197: 'ý', 198: 'ā', 199: 'ă', 200: 'ą', 201: 'Ć', 202: 'ć', 203: 'Č', 204: 'č', 205: 'Đ', 206: 'ğ', 207: 'ī', 208: 'İ', 209: 'ı', 210: 'ł', 211: 'ń', 212: 'ō', 213: 'Œ', 214: 'ş', 215: 'Š', 216: 'š', 217: 'ů', 218: 'ű', 219: 'ž', 220: 'ư', 221: 'ǎ', 222: 'ș', 223: '˜', 224: '̀', 225: '́', 226: '̂', 227: '̃', 228: '̄', 229: '̈', 230: '̉', 231: '̊', 232: '̌', 233: '̛', 234: '̧', 235: '̨', 236: 'Β', 237: 'Κ', 238: 'Μ', 239: 'ε', 240: 'ι', 241: 'π', 242: 'τ', 243: 'φ', 244: 'Б', 245: 'Г', 246: 'Е', 247: 'Ж', 248: 'К', 249: 'М', 250: 'П', 251: 'Р', 252: 'С', 253: 'Т', 254: 'Ш', 255: 'а', 256: 'в', 257: 'г', 258: 'д', 259: 'е', 260: 'з', 261: 'и', 262: 'й', 263: 'к', 264: 'л', 265: 'м', 266: 'н', 267: 'о', 268: 'р', 269: 'с', 270: 'т', 271: 'у', 272: 'ч', 273: 'ш', 274: 'ы', 275: 'ь', 276: 'ө', 277: 'ב', 278: 'ד', 279: 'ה', 280: 'ו', 281: 'ז', 282: 'י', 283: 'כ', 284: 'ל', 285: 'מ', 286: 'ן', 287: 'נ', 288: 'ר', 289: 'ש', 290: 'ת', 291: 'ا', 292: 'ب', 293: 'ة', 294: 'ت', 295: 'ج', 296: 'خ', 297: 'د', 298: 'ر', 299: 'ز', 300: 'س', 301: 'ش', 302: 'ص', 303: 'ض', 304: 'ط', 305: 'ع', 306: 'ف', 307: 'ق', 308: 'ك', 309: 'ل', 310: 'م', 311: 'ن', 312: 'ه', 313: 'و', 314: 'ي', 315: 'ّ', 316: 'ٔ', 317: 'ی', 318: 'उ', 319: 'क', 320: 'त', 321: 'ध', 322: 'न', 323: 'प', 324: 'ब', 325: 'म', 326: 'व', 327: 'ा', 328: 'ि', 329: 'ी', 330: 'े', 331: '्', 332: 'জ', 333: 'ড', 334: 'ঢ', 335: 'ব', 336: 'ভ', 337: 'স', 338: '়', 339: 'া', 340: 'ি', 341: 'ে', 342: 'ก', 343: 'ด', 344: 'ผ', 345: 'พ', 346: 'ม', 347: 'ร', 348: 'ห', 349: 'ะ', 350: 'ั', 351: 'า', 352: 'ู', 353: 'เ', 354: 'ᄀ', 355: 'ᄁ', 356: 'ᄂ', 357: 'ᄃ', 358: 'ᄆ', 359: 'ᄇ', 360: 'ᄉ', 361: 'ᄊ', 362: 'ᄋ', 363: 'ᄌ', 364: 'ᄎ', 365: 'ᄏ', 366: 'ᄒ', 367: 'ᅡ', 368: 'ᅢ', 369: 'ᅣ', 370: 'ᅩ', 371: 'ᅮ', 372: 'ᅳ', 373: 'ᅵ', 374: 'ᆨ', 375: 'ᆫ', 376: 'ᆯ', 377: 'ᆰ', 378: 'ᆷ', 379: 'ᆼ', 380: 'ả', 381: 'ấ', 382: 'ế', 383: 'ị', 384: 'ỏ', 385: 'ố', 386: 'ỗ', 387: 'ộ', 388: 'ớ', 389: 'ở', 390: 'ủ', 391: 'ứ', 392: 'ừ', 393: 'ữ', 394: '\\u2004', 395: '\\u2009', 396: '\\u200b', 397: '\\u200e', 398: '\\u200f', 399: '‑', 400: '–', 401: '—', 402: '‘', 403: '’', 404: '“', 405: '”', 406: '•', 407: '…', 408: '\\u2028', 409: '\\u202c', 410: '″', 411: '€', 412: '℃', 413: '™', 414: '☺', 415: '♥', 416: '\\u3000', 417: '【', 418: '】', 419: 'う', 420: 'お', 421: 'き', 422: 'ぎ', 423: 'し', 424: 'ち', 425: 'ど', 426: 'に', 427: 'ぶ', 428: 'ゃ', 429: 'ら', 430: 'り', 431: 'ん', 432: '゙', 433: 'イ', 434: 'オ', 435: 'カ', 436: 'ク', 437: 'コ', 438: 'サ', 439: 'ザ', 440: 'シ', 441: 'ス', 442: 'ダ', 443: 'チ', 444: 'ツ', 445: 'テ', 446: 'ト', 447: 'ナ', 448: 'ピ', 449: 'ム', 450: 'ュ', 451: 'ョ', 452: 'ラ', 453: 'リ', 454: 'レ', 455: 'ー', 456: '丁', 457: '三', 458: '丝', 459: '丸', 460: '丼', 461: '乳', 462: '仁', 463: '伊', 464: '余', 465: '保', 466: '八', 467: '冰', 468: '冷', 469: '割', 470: '包', 471: '午', 472: '卤', 473: '卵', 474: '台', 475: '叶', 476: '圓', 477: '块', 478: '堡', 479: '大', 480: '太', 481: '头', 482: '奴', 483: '婆', 484: '子', 485: '宝', 486: '宫', 487: '密', 488: '小', 489: '干', 490: '年', 491: '式', 492: '手', 493: '抽', 494: '拍', 495: '明', 496: '月', 497: '有', 498: '松', 499: '果', 500: '柚', 501: '椰', 502: '榴', 503: '水', 504: '汁', 505: '汤', 506: '油', 507: '泰', 508: '清', 509: '湯', 510: '滷', 511: '炒', 512: '炸', 513: '烧', 514: '焼', 515: '煎', 516: '煲', 517: '煸', 518: '熊', 519: '燉', 520: '燒', 521: '片', 522: '牛', 523: '猫', 524: '珍', 525: '珠', 526: '球', 527: '瓜', 528: '甜', 529: '生', 530: '田', 531: '皮', 532: '砂', 533: '米', 534: '粉', 535: '粥', 536: '粿', 537: '糊', 538: '糍', 539: '糕', 540: '糖', 541: '糯', 542: '紅', 543: '素', 544: '綠', 545: '翅', 546: '肉', 547: '脯', 548: '腐', 549: '腿', 550: '色', 551: '芝', 552: '芥', 553: '花', 554: '苦', 555: '茶', 556: '茸', 557: '菜', 558: '菠', 559: '蒸', 560: '蓮', 561: '薑', 562: '薯', 563: '蘭', 564: '蘿', 565: '虾', 566: '蛋', 567: '蛤', 568: '蜊', 569: '豆', 570: '辣', 571: '通', 572: '酥', 573: '酱', 574: '酸', 575: '鈴', 576: '面', 577: '韭', 578: '頭', 579: '飯', 580: '餃', 581: '餐', 582: '饅', 583: '饨', 584: '饭', 585: '饼', 586: '馄', 587: '馒', 588: '馬', 589: '鮨', 590: '鮹', 591: '鱼', 592: '鲜', 593: '鶏', 594: '鸡', 595: '麦', 596: '麵', 597: '麻', 598: '黄', 599: '갈', 600: '개', 601: '골', 602: '과', 603: '국', 604: '김', 605: '깨', 606: '닭', 607: '대', 608: '두', 609: '들', 610: '무', 611: '미', 612: '밥', 613: '뱅', 614: '부', 615: '비', 616: '생', 617: '수', 618: '순', 619: '역', 620: '육', 621: '이', 622: '일', 623: '잔', 624: '장', 625: '죽', 626: '찌', 627: '채', 628: '치', 629: '침', 630: '탕', 631: '\\uf04a', 632: 'ﬂ', 633: '\\ufeff', 634: '＆', 635: '（', 636: '）', 637: '￼', 638: '🍹', 639: '🎃', 640: '💙', 641: '😉', 642: '🤠'}\n",
            "Vocabulary size: 643\n"
          ]
        }
      ],
      "source": [
        "print(\"Vocabulary:\", str_to_int)\n",
        "print(\"Inverse vocabulary:\", int_to_str)\n",
        "print(\"Vocabulary size:\", len(str_to_int))"
      ]
    },
    {
      "cell_type": "code",
      "execution_count": null,
      "metadata": {
        "id": "t4VjC5E8PIRg"
      },
      "outputs": [],
      "source": [
        "# Function to go from token back to char\n",
        "def decode(encoded, vocab):\n",
        "    dec_c = [vocab[int(idx)] for idx in encoded]\n",
        "    print(\"\".join(dec_c))"
      ]
    },
    {
      "cell_type": "code",
      "execution_count": null,
      "metadata": {
        "colab": {
          "base_uri": "https://localhost:8080/"
        },
        "id": "N_RJmBcHek_r",
        "outputId": "cf58c7be-c369-44a1-ae25-9816623ad6f1"
      },
      "outputs": [
        {
          "name": "stdout",
          "output_type": "stream",
          "text": [
            "Decoded sequence:\n",
            "<RECIPE_START>\n",
            "<TITLE_START> Chicken And Sausage Jambalaya <TITLE_END>\n",
            "<INGREDIENTS_START>\n",
            "- 1/2 kg chicken thigh fillet, diced\n",
            "- tony chachere's creole seasoning\n",
            "- 1/2 cup margarine\n",
            "- 4 large onions, chopped\n",
            "- 4 garlic cloves, minced\n",
            "- 2 stalks celery, chopped\n",
            "- 1 bell pepper, chopped\n",
            "- 1/2 lb smoked pork sausage\n",
            "- 3 cups uncooked rice\n",
            "- 4 cups water or 4 cups chicken stock\n",
            "<INGREDIENTS_END>\n",
            "<INSTRUCTIONS_START>\n",
            "<STEP> 1. Season diced chicken generously with creole seasoning. </STEP>\n",
            "<STEP> 2. Add margarine to large saucepan and fry chicken. </STEP>\n",
            "<STEP> 3. Add all vegetables and saute for 10 minutes. </STEP>\n",
            "<STEP> 4. Add sausage and rice, cook for 10 minutes, mixing as you go. </STEP>\n",
            "<STEP> 5. Add water, stir well and keep covered until rice is fully cooked. </STEP>\n",
            "<INSTRUCTIONS_END>\n",
            "<RECIPE_END>\n",
            "\n",
            "<RECIPE_START>\n",
            "<TITLE_START> Fruity Bulgur Wheat <TITLE_END>\n",
            "<INGREDIENTS_START>\n",
            "- 10 ounces bulgur wheat\n",
            "- \n"
          ]
        }
      ],
      "source": [
        "print(\"Decoded sequence:\")\n",
        "decode(encoded[:700], int_to_str)"
      ]
    },
    {
      "cell_type": "code",
      "execution_count": null,
      "metadata": {
        "colab": {
          "base_uri": "https://localhost:8080/"
        },
        "id": "va1OlQnLn4Bn",
        "outputId": "b0cc5407-bf62-4e36-d219-c4e66f9d7c45"
      },
      "outputs": [
        {
          "name": "stdout",
          "output_type": "stream",
          "text": [
            "Number of rare tokens: 511\n"
          ]
        }
      ],
      "source": [
        "def find_rare_tokens(tokens, threshold=100):\n",
        "    counts = Counter(tokens)\n",
        "    rare_tokens = [token for token, freq in counts.items() if freq < threshold]\n",
        "    return rare_tokens\n",
        "\n",
        "rare_tokens = find_rare_tokens(encoded)\n",
        "print(\"Number of rare tokens:\", len(rare_tokens))\n",
        "\n",
        "#with open(\"/content/drive/MyDrive/Colab Notebooks/NNDS_fh/rare_tokens.txt\", 'w', encoding='utf-8') as f:\n",
        "#        for token in rare_tokens:\n",
        "#            f.write(str(token) + '\\n')"
      ]
    },
    {
      "cell_type": "markdown",
      "metadata": {
        "id": "JLXUeR0OTw-Z"
      },
      "source": [
        "Since there are mostly rare tokens in the vocabulary I decided to replace them with the \\<UNK\\> token to reduce the size of the vocabulary and help the model learn faster"
      ]
    },
    {
      "cell_type": "code",
      "execution_count": null,
      "metadata": {
        "colab": {
          "base_uri": "https://localhost:8080/"
        },
        "id": "2aN7Ez4zqD3r",
        "outputId": "1763e77f-bb07-459a-856b-cc2d076b1c63"
      },
      "outputs": [
        {
          "name": "stdout",
          "output_type": "stream",
          "text": [
            "[196, 174, 192, 173, 170, 401, 168, 180, 175, 189, 172, 149, 156, 182, 152, 21, 190, 154, 162, 147, 146, 155, 141, 215, 136, 134, 292, 300, 313, 293, 301, 308, 312, 187, 18, 306, 309, 310, 297, 169, 151, 17, 219, 197, 413, 135, 20, 14, 13, 194, 153, 291, 298, 19, 160, 223, 143, 158, 406, 159, 133, 253, 181, 398, 123, 124, 121, 259, 248, 256, 255, 269, 457, 566, 558, 557, 128, 637, 142, 126, 118, 512, 573, 576, 125, 311, 305, 317, 119, 185, 396, 601, 613, 621, 610, 629, 614, 607, 626, 600, 227, 415, 642, 150, 120, 599, 615, 630, 586, 583, 384, 385, 163, 167, 127, 199, 608, 604, 628, 129, 130, 602, 622, 612, 631, 132, 144, 474, 491, 511, 567, 568, 250, 274, 273, 266, 244, 264, 261, 272, 263, 407, 395, 469, 470, 209, 623, 603, 617, 489, 513, 565, 606, 625, 383, 220, 388, 212, 510, 546, 579, 544, 569, 509, 543, 200, 203, 216, 166, 165, 389, 639, 574, 570, 494, 598, 527, 636, 468, 482, 416, 204, 632, 381, 224, 577, 515, 222, 423, 428, 427, 597, 483, 548, 522, 460, 206, 436, 453, 455, 449, 440, 443, 450, 198, 542, 488, 476, 484, 424, 429, 589, 444, 447, 514, 421, 420, 426, 422, 430, 552, 563, 593, 535, 210, 620, 624, 495, 480, 448, 439, 267, 265, 258, 268, 503, 580, 463, 596, 251, 275, 208, 202, 618, 590, 438, 452, 442, 634, 520, 205, 137, 145, 231, 640, 555, 475, 411, 412, 252, 257, 270, 262, 245, 271, 254, 276, 553, 201, 138, 471, 581, 571, 534, 419, 425, 431, 213, 541, 533, 584, 559, 641, 214, 638, 633, 211, 218, 217, 408, 380, 390, 117, 161, 221, 393, 386, 561, 504, 540, 529, 551, 537, 207, 501, 539, 556, 249, 260, 588, 575, 562, 519, 616, 627, 387, 391, 392, 382, 582, 578, 554, 505, 508, 609, 605, 611, 619, 507, 564, 164, 410, 451, 437, 454, 446, 226, 472, 594, 549, 229, 233, 230, 232, 234, 461, 477, 296, 299, 307, 314, 294, 316, 362, 370, 366, 369, 379, 363, 374, 359, 367, 376, 285, 290, 283, 280, 286, 278, 288, 282, 284, 277, 287, 279, 289, 281, 357, 371, 355, 360, 372, 228, 521, 486, 478, 456, 490, 394, 236, 238, 241, 240, 243, 242, 239, 237, 524, 525, 459, 318, 320, 331, 323, 325, 324, 322, 327, 330, 319, 329, 326, 328, 321, 361, 378, 295, 304, 532, 516, 465, 530, 500, 487, 526, 397, 409, 635, 466, 485, 399, 334, 338, 341, 333, 337, 335, 332, 340, 336, 339, 247, 506, 493, 492, 550, 467, 531, 496, 585, 246, 358, 368, 375, 377, 591, 545, 434, 433, 441, 536, 417, 418, 498, 462, 547, 538, 365, 356, 364, 373, 303, 315, 344, 350, 343, 342, 347, 349, 353, 345, 351, 348, 346, 352, 435, 445, 354, 528, 235, 517, 458, 518, 523, 587, 481, 302, 479, 595, 12, 497, 464, 414, 473, 502, 560, 572, 592, 499, 432, 157]\n"
          ]
        }
      ],
      "source": [
        "with open(\"/content/drive/MyDrive/Colab Notebooks/NNDS_fh/rare_tokens.txt\", 'r', encoding='utf-8') as f:\n",
        "    rare_tokens = [int(line.strip()) for line in f]\n",
        "\n",
        "print(rare_tokens)"
      ]
    },
    {
      "cell_type": "code",
      "execution_count": null,
      "metadata": {
        "colab": {
          "base_uri": "https://localhost:8080/"
        },
        "id": "tEOPHZfowtdN",
        "outputId": "48dd6277-b442-4aca-ab91-f01077a8d6b1"
      },
      "outputs": [
        {
          "name": "stdout",
          "output_type": "stream",
          "text": [
            "{0: '<PAD>', 1: '<UNK>', 2: '<RECIPE_START>', 3: '<RECIPE_END>', 4: '<TITLE_START>', 5: '<TITLE_END>', 6: '<INGREDIENTS_START>', 7: '<INGREDIENTS_END>', 8: '<INSTRUCTIONS_START>', 9: '<INSTRUCTIONS_END>', 10: '<STEP>', 11: '</STEP>', 12: '\\t', 13: '\\n', 14: ' ', 15: '!', 16: '\"', 17: '#', 18: '$', 19: '%', 20: '&', 21: \"'\", 22: '(', 23: ')', 24: '*', 25: '+', 26: ',', 27: '-', 28: '.', 29: '/', 30: '0', 31: '1', 32: '2', 33: '3', 34: '4', 35: '5', 36: '6', 37: '7', 38: '8', 39: '9', 40: ':', 41: ';', 42: '<', 43: '=', 44: '>', 45: '?', 46: '@', 47: 'A', 48: 'B', 49: 'C', 50: 'D', 51: 'E', 52: 'F', 53: 'G', 54: 'H', 55: 'I', 56: 'J', 57: 'K', 58: 'L', 59: 'M', 60: 'N', 61: 'O', 62: 'P', 63: 'Q', 64: 'R', 65: 'S', 66: 'T', 67: 'U', 68: 'V', 69: 'W', 70: 'X', 71: 'Y', 72: 'Z', 73: '[', 74: '\\\\', 75: ']', 76: '^', 77: '_', 78: '`', 79: 'a', 80: 'b', 81: 'c', 82: 'd', 83: 'e', 84: 'f', 85: 'g', 86: 'h', 87: 'i', 88: 'j', 89: 'k', 90: 'l', 91: 'm', 92: 'n', 93: 'o', 94: 'p', 95: 'q', 96: 'r', 97: 's', 98: 't', 99: 'u', 100: 'v', 101: 'w', 102: 'x', 103: 'y', 104: 'z', 105: '{', 106: '|', 107: '}', 108: '~', 109: '\\x92', 110: '\\xa0', 111: '®', 112: '°', 113: 'À', 114: 'â', 115: 'ç', 116: 'è', 117: 'é', 118: 'ê', 119: 'î', 120: 'ï', 121: 'ñ', 122: 'ó', 123: 'ö', 124: 'ù', 125: 'û', 126: '́', 127: '–', 128: '‘', 129: '’', 130: '“', 131: '”'}\n",
            "{'<PAD>': 0, '<UNK>': 1, '<RECIPE_START>': 2, '<RECIPE_END>': 3, '<TITLE_START>': 4, '<TITLE_END>': 5, '<INGREDIENTS_START>': 6, '<INGREDIENTS_END>': 7, '<INSTRUCTIONS_START>': 8, '<INSTRUCTIONS_END>': 9, '<STEP>': 10, '</STEP>': 11, '\\t': 12, '\\n': 13, ' ': 14, '!': 15, '\"': 16, '#': 17, '$': 18, '%': 19, '&': 20, \"'\": 21, '(': 22, ')': 23, '*': 24, '+': 25, ',': 26, '-': 27, '.': 28, '/': 29, '0': 30, '1': 31, '2': 32, '3': 33, '4': 34, '5': 35, '6': 36, '7': 37, '8': 38, '9': 39, ':': 40, ';': 41, '<': 42, '=': 43, '>': 44, '?': 45, '@': 46, 'A': 47, 'B': 48, 'C': 49, 'D': 50, 'E': 51, 'F': 52, 'G': 53, 'H': 54, 'I': 55, 'J': 56, 'K': 57, 'L': 58, 'M': 59, 'N': 60, 'O': 61, 'P': 62, 'Q': 63, 'R': 64, 'S': 65, 'T': 66, 'U': 67, 'V': 68, 'W': 69, 'X': 70, 'Y': 71, 'Z': 72, '[': 73, '\\\\': 74, ']': 75, '^': 76, '_': 77, '`': 78, 'a': 79, 'b': 80, 'c': 81, 'd': 82, 'e': 83, 'f': 84, 'g': 85, 'h': 86, 'i': 87, 'j': 88, 'k': 89, 'l': 90, 'm': 91, 'n': 92, 'o': 93, 'p': 94, 'q': 95, 'r': 96, 's': 97, 't': 98, 'u': 99, 'v': 100, 'w': 101, 'x': 102, 'y': 103, 'z': 104, '{': 105, '|': 106, '}': 107, '~': 108, '\\x92': 109, '\\xa0': 110, '®': 111, '°': 112, 'À': 113, 'â': 114, 'ç': 115, 'è': 116, 'é': 117, 'ê': 118, 'î': 119, 'ï': 120, 'ñ': 121, 'ó': 122, 'ö': 123, 'ù': 124, 'û': 125, '́': 126, '–': 127, '‘': 128, '’': 129, '“': 130, '”': 131}\n"
          ]
        }
      ],
      "source": [
        "# Filter tokens\n",
        "filtered_tokens = [token for token in int_to_str.keys() if token not in rare_tokens]\n",
        "\n",
        "# Create mapping from old index to new index\n",
        "old_to_new_index = {old_idx: new_idx for new_idx, old_idx in enumerate(sorted(filtered_tokens))}\n",
        "\n",
        "# Build new_int_to_str and new_str_to_int dictionaries\n",
        "new_int_to_str = {}\n",
        "new_str_to_int = {}\n",
        "\n",
        "for old_idx in filtered_tokens:\n",
        "    token = int_to_str[old_idx]\n",
        "    new_idx = old_to_new_index[old_idx]\n",
        "    new_int_to_str[new_idx] = token\n",
        "    new_str_to_int[token] = new_idx\n",
        "\n",
        "print(new_int_to_str)\n",
        "print(new_str_to_int)"
      ]
    },
    {
      "cell_type": "code",
      "execution_count": null,
      "metadata": {
        "id": "luObQDKmHsT2"
      },
      "outputs": [],
      "source": [
        "#with open(\"/content/drive/MyDrive/Colab Notebooks/NNDS_fh/new_vocab_improv.pkl\", \"wb\") as f:\n",
        "#    pickle.dump((new_str_to_int, new_int_to_str), f)\n",
        "\n",
        "with open(\"/content/drive/MyDrive/Colab Notebooks/NNDS_fh/new_vocab_improv.pkl\", \"rb\") as f:\n",
        "    new_str_to_int, new_int_to_str = pickle.load(f)"
      ]
    },
    {
      "cell_type": "code",
      "execution_count": null,
      "metadata": {
        "colab": {
          "base_uri": "https://localhost:8080/"
        },
        "id": "b1O3_rGprKq-",
        "outputId": "67c382b3-1119-4c47-9cb4-35a652b68aab"
      },
      "outputs": [
        {
          "name": "stdout",
          "output_type": "stream",
          "text": [
            "New Vocabulary length: 132\n"
          ]
        }
      ],
      "source": [
        "# Get size of new vocabulary\n",
        "true_voc_len = len(new_str_to_int)\n",
        "print(\"New Vocabulary length:\", true_voc_len)"
      ]
    },
    {
      "cell_type": "code",
      "execution_count": null,
      "metadata": {
        "id": "eqzTZyzEgxdN"
      },
      "outputs": [],
      "source": [
        "# Compute recipe lenght stats\n",
        "def recipe_len_stats(encoded):\n",
        "    lens = []\n",
        "    counter = 0\n",
        "\n",
        "    for token in encoded:\n",
        "        counter += 1\n",
        "        if token == 2:\n",
        "            lens.append(counter - 1)\n",
        "            counter = 0\n",
        "\n",
        "    lengths_np = np.array(lens[1:])\n",
        "\n",
        "    # Mean and median\n",
        "    avg = np.mean(lengths_np)\n",
        "    median = np.median(lengths_np)\n",
        "\n",
        "    # Percentiles\n",
        "    p75 = np.percentile(lengths_np, 75)\n",
        "    p90 = np.percentile(lengths_np, 90)\n",
        "    p95 = np.percentile(lengths_np, 95)\n",
        "    max_len = np.max(lengths_np)\n",
        "    min_len = np.min(lengths_np)\n",
        "\n",
        "    print(f\"Average recipe length: {avg:.2f}\")\n",
        "    print(f\"Median recipe length: {median:.2f}\")\n",
        "    print(f\"Min recipe length: {min_len}\")\n",
        "    print(f\"Max recipe length: {max_len}\")\n",
        "    print(f\"75th percentile length: {p75:.2f}\")\n",
        "    print(f\"90th percentile length: {p90:.2f}\")\n",
        "    print(f\"95th percentile length: {p95:.2f}\")"
      ]
    },
    {
      "cell_type": "code",
      "execution_count": null,
      "metadata": {
        "colab": {
          "base_uri": "https://localhost:8080/"
        },
        "id": "vvUOlSBRjK1f",
        "outputId": "93794c95-6cb5-41aa-e999-f2000f9d5a26"
      },
      "outputs": [
        {
          "name": "stdout",
          "output_type": "stream",
          "text": [
            "Average recipe length: 1062.06\n",
            "Median recipe length: 916.00\n",
            "Min recipe length: 42\n",
            "Max recipe length: 17034\n",
            "75th percentile length: 1315.00\n",
            "90th percentile length: 1840.00\n",
            "95th percentile length: 2262.00\n"
          ]
        }
      ],
      "source": [
        "recipe_len_stats(encoded)"
      ]
    },
    {
      "cell_type": "markdown",
      "metadata": {
        "id": "-idZntOzjb1e"
      },
      "source": [
        "Since the average recipe length is 1.000, I subset the encoded data in order to have around 200.000 recipes and work with more manageable data"
      ]
    },
    {
      "cell_type": "code",
      "execution_count": null,
      "metadata": {
        "id": "Myd2jCSqj_SK"
      },
      "outputs": [],
      "source": [
        "# Subset\n",
        "subset_encoded = encoded[:200_000_000]\n",
        "# Boolean mask where token is rare\n",
        "subset_encoded[np.isin(subset_encoded, rare_tokens)] = 1\n",
        "# Change old tokens with new\n",
        "subset_encoded = np.vectorize(old_to_new_index.get)(subset_encoded)"
      ]
    },
    {
      "cell_type": "code",
      "execution_count": null,
      "metadata": {
        "colab": {
          "base_uri": "https://localhost:8080/"
        },
        "id": "w_S51oK06NwS",
        "outputId": "63263789-92a1-4bdb-a876-a89c5f19e8d0"
      },
      "outputs": [
        {
          "name": "stdout",
          "output_type": "stream",
          "text": [
            "[  2  13   4  14  49  86  87  81  89  83  92  14  47  92  82  14  65  79\n",
            "  99  97  79  85  83  14  56  79  91  80  79  90  79 103  79  14   5  13\n",
            "   6  13  27  14  31  29  32  14  89  85  14  81  86  87  81  89  83  92\n",
            "  14  98  86  87  85  86  14  84  87  90  90  83  98  26  14  82  87  81\n",
            "  83  82  13  27  14  98  93  92 103  14  81  86  79  81  86  83  96  83\n",
            "  21  97  14  81  96  83  93  90  83  14]\n",
            "<RECIPE_START>\n",
            "<TITLE_START> Chicken And Sausage Jambalaya <TITLE_END>\n",
            "<INGREDIENTS_START>\n",
            "- 1/2 kg chicken thigh fillet, diced\n",
            "- tony chachere's creole seasoning\n",
            "- 1/2 cup margarine\n",
            "- 4 large onions, ch\n",
            "None\n",
            "\n",
            "\n",
            "[  2  16   4  22  57  94  95  89  97  91 100  22  55 100  90  22  73  87\n",
            " 107 105  87  93  91  22  64  87  99  88  87  98  87 111  87  22   5  16\n",
            "   6  16  35  22  39  37  40  22  97  93  22  89  94  95  89  97  91 100\n",
            "  22 106  94  95  93  94  22  92  95  98  98  91 106  34  22  90  95  89\n",
            "  91  90  16  35  22 106 101 100 111  22  89  94  87  89  94  91 104  91\n",
            "  29 105  22  89 104  91 101  98  91  22]\n",
            "<RECIPE_START>\n",
            "<TITLE_START> Chicken And Sausage Jambalaya <TITLE_END>\n",
            "<INGREDIENTS_START>\n",
            "- 1/2 kg chicken thigh fillet, diced\n",
            "- tony chachere's creole seasoning\n",
            "- 1/2 cup margarine\n",
            "- 4 large onions, ch\n",
            "None\n"
          ]
        }
      ],
      "source": [
        "# Check if the new vocabulary is correct by decoding\n",
        "print(subset_encoded[:100])\n",
        "print(decode(subset_encoded[:150], new_int_to_str))\n",
        "print(\"\\n\")\n",
        "# Compare with old vocabulary\n",
        "print(encoded[:100])\n",
        "print(decode(encoded[:150], int_to_str))"
      ]
    },
    {
      "cell_type": "code",
      "execution_count": null,
      "metadata": {
        "colab": {
          "base_uri": "https://localhost:8080/",
          "height": 472
        },
        "id": "aRAwmSZ1sNfb",
        "outputId": "8513151a-7ed2-409b-82cb-8b7f7b5fffb8"
      },
      "outputs": [
        {
          "data": {
            "image/png": "[encoded data removed]",
            "text/plain": [
              "<Figure size 640x480 with 1 Axes>"
            ]
          },
          "metadata": {},
          "output_type": "display_data"
        }
      ],
      "source": [
        "# Plot distribution of subset with new tokens\n",
        "plt.hist(subset_encoded, bins=50, density=True, alpha=0.7)\n",
        "plt.title(\"Distribution of Tokens\")\n",
        "plt.xlabel(\"Token\")\n",
        "plt.ylabel(\"Density\")\n",
        "plt.show()"
      ]
    },
    {
      "cell_type": "code",
      "execution_count": null,
      "metadata": {
        "colab": {
          "base_uri": "https://localhost:8080/"
        },
        "id": "RH-bosIokbvq",
        "outputId": "b7f3af11-4504-46f5-df09-8c66b773db8e"
      },
      "outputs": [
        {
          "name": "stdout",
          "output_type": "stream",
          "text": [
            "Average recipe length: 1006.69\n",
            "Median recipe length: 896.00\n",
            "Min recipe length: 53\n",
            "Max recipe length: 13353\n",
            "75th percentile length: 1241.00\n",
            "90th percentile length: 1682.00\n",
            "95th percentile length: 2036.00\n"
          ]
        }
      ],
      "source": [
        "# Check if recipe lenght stats remained similar for subset data\n",
        "recipe_len_stats(subset_encoded)"
      ]
    },
    {
      "cell_type": "code",
      "execution_count": null,
      "metadata": {
        "id": "Euv2w2ShOfqW"
      },
      "outputs": [],
      "source": [
        "# Function to get batches of data\n",
        "def get_batch(encoded, seq_len, batch_size, key):\n",
        "    N = len(encoded)\n",
        "    # Select (batch_size,) random indices to start the sequences of the batch\n",
        "    start_idx = jax.random.randint(key, (batch_size,), 0, N - seq_len)\n",
        "    # Transform and broadcast to matrix (batch-size, seq_len)\n",
        "    idx = start_idx[:, None] + jnp.arange(seq_len)[None, :]\n",
        "    # Use jax fancy indexing to retreive all subsequences in one go\n",
        "    x = encoded[idx]\n",
        "    y = encoded[idx + 1]\n",
        "    return x.astype(jnp.int32), y.astype(jnp.int32)"
      ]
    },
    {
      "cell_type": "code",
      "execution_count": null,
      "metadata": {
        "colab": {
          "base_uri": "https://localhost:8080/"
        },
        "id": "findA5u6Os2S",
        "outputId": "1edcb1d0-f2d1-436c-b8ff-5442edda37fc"
      },
      "outputs": [
        {
          "name": "stdout",
          "output_type": "stream",
          "text": [
            "Input batch shape: (4, 10)\n",
            "Output batch shape: (4, 10)\n"
          ]
        }
      ],
      "source": [
        "batch_x, batch_y = get_batch(subset_encoded, 10, 4, jax.random.PRNGKey(42))\n",
        "print(\"Input batch shape:\", batch_x.shape)\n",
        "print(\"Output batch shape:\", batch_y.shape)"
      ]
    },
    {
      "cell_type": "code",
      "execution_count": null,
      "metadata": {
        "colab": {
          "base_uri": "https://localhost:8080/"
        },
        "id": "e413gm9hPAp4",
        "outputId": "4b021cb3-6b27-4640-de9d-d5da4943112d"
      },
      "outputs": [
        {
          "name": "stdout",
          "output_type": "stream",
          "text": [
            "parsley an\n",
            "\n",
            "arsley and\n"
          ]
        }
      ],
      "source": [
        "decode(batch_x[0].tolist(), new_int_to_str)\n",
        "print(\"\")\n",
        "decode(batch_y[0].tolist(), new_int_to_str)"
      ]
    },
    {
      "cell_type": "markdown",
      "metadata": {
        "id": "Lm-iFz1iCSue"
      },
      "source": [
        "## Training the recurrent model\n",
        "\n",
        "I took inspiration for the task from the blog post [The Unreasonable Effectiveness of Recurrent Neural Networks](https://karpathy.github.io/2015/05/21/rnn-effectiveness/).\n",
        "\n",
        "I decided to implement a character level LSTM language model since the recipes are not too long, but still require an expressive network to model long range dependencies. The model is traained to predict the next character in a sequence.\n",
        "\n",
        "The model takes as input a seqeunce of tokens, embeds them into dense vectors and passes them through the LSTM network to produce a sequence of hidden states. These hiddens states are then projected onto the output space, that is the vocabulary space, to produce logits for predicting the next token at each time step.\n",
        "\n",
        "#### Parameter Initialization\n",
        "The embedding matrix is initiliazed randomly, while for the LSTM layer I use Glorot initialization to preserve activation variance during the forward pass and gradient variance during the backward pass, i.e. I sample weights from:\n",
        "$$\n",
        "U(- \\sqrt{\\frac{6}{input\\_dim + output\\_dim}}, + \\sqrt{\\frac{6}{input\\_dim + output\\_dim}})\n",
        "$$\n",
        "\n",
        "#### Model Design\n",
        "- Embedding matrix\n",
        "- LSTM kernel and bias\n",
        "- Output projection layer\n",
        "\n",
        "At each time step the previous hidden state and the input vector are concatenated and transformed into four gate vectors (i, f, c, o) that are used to update the internal cell state and compute the new hidden state.\n",
        "\n",
        "Moreover, I also apply Inverted Dropout to outputs in order to try to improve generalization rather than memorizing exact sequences. Dropout is applied to the outputs of the recurrent layers, before the final logits projection.\n",
        "As optimizer I use adam with standard parameters and I perform gradient clipping to prevent the vanishing/exploding gradient issue typical of recurrent models."
      ]
    },
    {
      "cell_type": "code",
      "execution_count": null,
      "metadata": {
        "id": "O9dyt6zrl3Iy"
      },
      "outputs": [],
      "source": [
        "## Utility functions\n",
        "# Glorot uniform initialization\n",
        "def glorot_init(key, in_dim, out_dim, dtype=jnp.float32):\n",
        "    limit = jnp.sqrt(6.0 / (in_dim + out_dim))\n",
        "    return jax.random.uniform(key, (in_dim, out_dim), dtype=dtype, minval=-limit, maxval=limit)\n",
        "\n",
        "# Inverted Dropout\n",
        "def apply_dropout(x, rate, key, training: bool):\n",
        "    # Use dropout only if in training mode\n",
        "    if not training or rate == 0.0:\n",
        "        return x\n",
        "    keep_prob = 1.0 - rate\n",
        "    # Generate binary mask\n",
        "    mask = jax.random.bernoulli(key, keep_prob, x.shape)\n",
        "    return jnp.where(mask, x / keep_prob, 0.0)\n",
        "\n",
        "## Parameter Initialization\n",
        "def init_params(key, vocab_size, embedding_dim, hidden_dim):\n",
        "\n",
        "    k_emb, k_ifco_kernel, k_ifco_bias, k_out_kernel, k_out_bias = jax.random.split(key, 5)\n",
        "\n",
        "    params = {\n",
        "        # Embedding layer\n",
        "        'W_emb': jax.random.normal(k_emb, (vocab_size, embedding_dim)) * 0.02,\n",
        "\n",
        "        ## LSTM Cell parameters\n",
        "        # Kernel for concatenated [x_t, h_prev]\n",
        "        'kernel_ifco': glorot_init(k_ifco_kernel, embedding_dim + hidden_dim, 4 * hidden_dim),\n",
        "        # Bias for IFCO gates\n",
        "        'b_ifco': jnp.zeros(4 * hidden_dim),\n",
        "\n",
        "        # Output projection layer\n",
        "        'W_out': glorot_init(k_out_kernel, hidden_dim, vocab_size),\n",
        "        'b_out': jnp.zeros(vocab_size)\n",
        "    }\n",
        "    return params\n",
        "\n",
        "## LSTM Cell\n",
        "def lstm_cell(cell_params, carry, x_t):\n",
        "    h_prev, c_prev = carry\n",
        "\n",
        "    # Concatenate current input x_t and previous hidden state h_prev\n",
        "    # x_t: (batch_size, embedding_dim), h_prev: (batch_size, hidden_dim)\n",
        "    # -> concat_xh: (batch_size, embedding_dim + hidden_dim)\n",
        "    concat_xh = jnp.concatenate([x_t, h_prev], axis=-1)\n",
        "\n",
        "    # Linear transformation for all gates at once (suggesed by ChatGPT for better efficiency)\n",
        "    # kernel_ifco: (embedding_dim + hidden_dim, 4 * hidden_dim), b_ifco: (4 * hidden_dim)\n",
        "    # -> ifco_gates shape: (batch_size, 4 * hidden_dim)\n",
        "    ifco_gates = jnp.dot(concat_xh, cell_params['kernel_ifco']) + cell_params['b_ifco']\n",
        "\n",
        "    # Split into individual gates\n",
        "    i, f, c, o = jnp.split(ifco_gates, 4, axis=-1)\n",
        "\n",
        "    # Apply activation functions\n",
        "    i = jax.nn.sigmoid(i)  # Input gate\n",
        "    f = jax.nn.sigmoid(f)  # Forget gate\n",
        "    c = jnp.tanh(c)  # Cell gate\n",
        "    o = jax.nn.sigmoid(o)  # Output gate\n",
        "\n",
        "    # Calculate next cell state and hidden state\n",
        "    c_next = f * c_prev + i * c\n",
        "    h_next = o * jnp.tanh(c_next)\n",
        "\n",
        "    return (h_next, c_next), h_next\n",
        "\n",
        "## Model Apply Function\n",
        "def apply_model(params, tokens_input, training: bool = True, dropout_rate=0.1, key=None):\n",
        "\n",
        "    if key is None:\n",
        "        key = jax.random.PRNGKey(0)\n",
        "    dropout_keys = jax.random.split(key, 2)\n",
        "\n",
        "    batch_size, seq_len = tokens_input.shape\n",
        "    embedding_dim = params['W_emb'].shape[-1]\n",
        "    hidden_dim = params['W_out'].shape[0]\n",
        "\n",
        "    # Embedding Lookup\n",
        "    # W_emb: (vocab_size, embedding_dim) -> embeddings: (batch_size, seq_len, embedding_dim)\n",
        "    embeddings = params['W_emb'][tokens_input]\n",
        "\n",
        "    # Initial hidden state and cell state for LSTM\n",
        "    h_initial = jnp.zeros((batch_size, hidden_dim), dtype=embeddings.dtype)\n",
        "    c_initial = jnp.zeros((batch_size, hidden_dim), dtype=embeddings.dtype)\n",
        "    initial_carry = (h_initial, c_initial)\n",
        "\n",
        "    # Transpose embeddings for scan -> from batch-major to time-major: (seq_len, batch_size, embedding_dim)\n",
        "    embeddings_time_major = jnp.transpose(embeddings, (1, 0, 2))\n",
        "\n",
        "    # LSTM scan\n",
        "    cell_params_for_scan = {'kernel_ifco': params['kernel_ifco'], 'b_ifco': params['b_ifco']}\n",
        "\n",
        "    # Since jax.lax.scan expects a function of the form (carry, x_t) -> (new_carry, y_t),\n",
        "    # we define a wrapper that captures 'cell_params_for_scan', which are static throughout the scan\n",
        "    def scan_fn_wrapper(carry, x_t):\n",
        "        return lstm_cell(cell_params_for_scan, carry, x_t)\n",
        "\n",
        "    # all_hidden_states_time_major: (seq_len, batch_size, hidden_dim)\n",
        "    _, all_hidden_states_time_major = jax.lax.scan(scan_fn_wrapper, initial_carry, embeddings_time_major)\n",
        "\n",
        "    # Transpose hidden states back to batch-major -> all_hidden_states: (batch_size, seq_len, hidden_dim)\n",
        "    all_hidden_states = jnp.transpose(all_hidden_states_time_major, (1, 0, 2))\n",
        "\n",
        "    # Apply dropout\n",
        "    all_hidden_states = apply_dropout(all_hidden_states, dropout_rate, dropout_keys[0], training)\n",
        "\n",
        "    # Output Projection\n",
        "    # W_out: (hidden_dim, vocab_size), b_out: (vocab_size)\n",
        "    # output_logits: (batch_size, seq_len, vocab_size)\n",
        "    # (B, S, H) @ (H, V) -> (B, S, V)\n",
        "    output_logits = jnp.dot(all_hidden_states, params['W_out']) + params['b_out']\n",
        "\n",
        "    return output_logits\n",
        "\n",
        "## Loss Function\n",
        "def calculate_loss_fn(logits, targets):\n",
        "    loss_per_token = optax.softmax_cross_entropy_with_integer_labels(logits=logits, labels=targets)\n",
        "    return jnp.mean(loss_per_token)"
      ]
    },
    {
      "cell_type": "code",
      "execution_count": null,
      "metadata": {
        "colab": {
          "base_uri": "https://localhost:8080/"
        },
        "id": "fKmxzJiNHcUm",
        "outputId": "72b6eb3f-64fa-47ff-ad67-d734dac57f10"
      },
      "outputs": [
        {
          "name": "stdout",
          "output_type": "stream",
          "text": [
            "Vocab size: 132\n",
            "Batch size: 64, Sequence length: 1200\n",
            "Embedding dim: 64, LSTM hidden dim: 512\n",
            "Initialized parameter keys: ['W_emb', 'kernel_ifco', 'b_ifco', 'W_out', 'b_out']\n",
            "W_emb shape: (132, 64)\n",
            "kernel_ifco shape: (576, 2048)\n",
            "W_out shape: (512, 132)\n"
          ]
        }
      ],
      "source": [
        "# Model hyperparameters\n",
        "vocab_size = len(new_str_to_int) # 132\n",
        "embedding_dim = 64\n",
        "hidden_dim = 512\n",
        "seq_len = 1200  # avg sequence length is around 1000, but 75th percentile is around 1200\n",
        "batch_size = 64\n",
        "\n",
        "print(f\"Vocab size: {vocab_size}\")\n",
        "print(f\"Batch size: {batch_size}, Sequence length: {seq_len}\")\n",
        "print(f\"Embedding dim: {embedding_dim}, LSTM hidden dim: {hidden_dim}\")\n",
        "\n",
        "## Model Setup\n",
        "key_master = jax.random.PRNGKey(0)\n",
        "key_init, key_batch_train = jax.random.split(key_master)\n",
        "\n",
        "# Initialize model parameters\n",
        "params = init_params(key_init, vocab_size, embedding_dim, hidden_dim)\n",
        "print(f\"Initialized parameter keys: {list(params.keys())}\")\n",
        "print(f\"W_emb shape: {params['W_emb'].shape}\")\n",
        "print(f\"kernel_ifco shape: {params['kernel_ifco'].shape}\")\n",
        "print(f\"W_out shape: {params['W_out'].shape}\")\n",
        "\n",
        "\n",
        "## Optimizer\n",
        "def init_adam_state(params):\n",
        "    # initialize first and second moment trees and step counter\n",
        "    m = jax.tree.map(jnp.zeros_like, params)\n",
        "    v = jax.tree.map(jnp.zeros_like, params)\n",
        "    return {'m': m, 'v': v, 't': 0}\n",
        "\n",
        "def adam_update(params, grads, state, lr=1e-3, beta1=0.9, beta2=0.999, eps=1e-8, max_grad_norm=1.0):\n",
        "    # Increment step\n",
        "    t = state['t'] + 1\n",
        "\n",
        "    # Compute global norm and clip (by ChatGPT)\n",
        "    g_norm = jnp.sqrt(sum([jnp.vdot(g, g) for g in jax.tree.leaves(grads)]))\n",
        "    clip_coef = jnp.minimum(1.0, max_grad_norm / (g_norm + 1e-6))\n",
        "    grads = jax.tree.map(lambda g: g * clip_coef, grads)\n",
        "\n",
        "    # Update biased first and second moments\n",
        "    m = jax.tree.map(lambda m, g: beta1 * m + (1 - beta1) * g, state['m'], grads)\n",
        "    v = jax.tree.map(lambda v, g: beta2 * v + (1 - beta2) * (g**2), state['v'], grads)\n",
        "\n",
        "    # Bias corrected estimates\n",
        "    m_hat = jax.tree.map(lambda m: m / (1 - beta1**t), m)\n",
        "    v_hat = jax.tree.map(lambda v: v / (1 - beta2**t), v)\n",
        "\n",
        "    # Parameter update\n",
        "    updates = jax.tree.map(lambda m_h, v_h: lr * (m_h / (jnp.sqrt(v_h) + eps)), m_hat, v_hat)\n",
        "    new_params = jax.tree.map(lambda p, u: p - u, params, updates)\n",
        "\n",
        "    new_state = {'m': m, 'v': v, 't': t}\n",
        "    return new_params, new_state\n",
        "\n",
        "opt_state = init_adam_state(params)\n",
        "learning_rate = 1e-3\n",
        "\n",
        "## Define Training Step\n",
        "@jax.jit\n",
        "def train_step(params, opt_state, x_batch, y_batch, key):\n",
        "    # Compute loss and grads\n",
        "    def loss_fn(p):\n",
        "        logits = apply_model(p, x_batch, training=True, dropout_rate=0.2, key=key)\n",
        "        return calculate_loss_fn(logits, y_batch)\n",
        "\n",
        "    loss, grads = jax.value_and_grad(loss_fn)(params)\n",
        "\n",
        "    # Update parameters and optimizer state\n",
        "    new_params, new_opt_state = adam_update(params, grads, opt_state, lr=learning_rate)\n",
        "\n",
        "    return new_params, new_opt_state, loss"
      ]
    },
    {
      "cell_type": "code",
      "execution_count": null,
      "metadata": {
        "colab": {
          "base_uri": "https://localhost:8080/",
          "height": 1000
        },
        "id": "jUu4vaTd4y2Y",
        "outputId": "eb9ed176-24d5-48e7-dbab-1941162cb090"
      },
      "outputs": [
        {
          "name": "stdout",
          "output_type": "stream",
          "text": [
            "\n",
            "Start training loop for 20 epochs, 500 steps/epoch\n",
            "Epoch 1/20, Step 50/500, Loss: 3.2595\n",
            "Epoch 1/20, Step 100/500, Loss: 2.6943\n",
            "Epoch 1/20, Step 150/500, Loss: 2.3121\n",
            "Epoch 1/20, Step 200/500, Loss: 2.0638\n",
            "Epoch 1/20, Step 250/500, Loss: 1.8818\n",
            "Epoch 1/20, Step 300/500, Loss: 1.7581\n",
            "Epoch 1/20, Step 350/500, Loss: 1.6328\n",
            "Epoch 1/20, Step 400/500, Loss: 1.5289\n",
            "Epoch 1/20, Step 450/500, Loss: 1.4143\n",
            "Epoch 1/20, Step 500/500, Loss: 1.3155\n",
            "--- Epoch 1 Average Loss: 2.1084 ---\n",
            "\n",
            "Sample generation:\n",
            "<RECIPE_START>; Strisked and salt and malf and cook to the packl\n",
            "Epoch 2/20, Step 50/500, Loss: 1.2592\n",
            "Epoch 2/20, Step 100/500, Loss: 1.2016\n",
            "Epoch 2/20, Step 150/500, Loss: 1.1886\n",
            "Epoch 2/20, Step 200/500, Loss: 1.2169\n",
            "Epoch 2/20, Step 250/500, Loss: 1.1273\n",
            "Epoch 2/20, Step 300/500, Loss: 1.0932\n",
            "Epoch 2/20, Step 350/500, Loss: 1.0498\n",
            "Epoch 2/20, Step 400/500, Loss: 1.0623\n",
            "Epoch 2/20, Step 450/500, Loss: 1.0307\n",
            "Epoch 2/20, Step 500/500, Loss: 1.0539\n",
            "--- Epoch 2 Average Loss: 1.1411 ---\n",
            "\n",
            "Sample generation:\n",
            "<RECIPE_START>\n",
            "<INGREDIENTS_END>\n",
            "<INSTRUCTIONS_START>\n",
            "<STEP> 1. Preheat oven and cook until butter and d\n",
            "Epoch 3/20, Step 50/500, Loss: 1.0143\n",
            "Epoch 3/20, Step 100/500, Loss: 0.9912\n",
            "Epoch 3/20, Step 150/500, Loss: 0.9815\n",
            "Epoch 3/20, Step 200/500, Loss: 0.9663\n",
            "Epoch 3/20, Step 250/500, Loss: 0.9807\n",
            "Epoch 3/20, Step 300/500, Loss: 0.9495\n",
            "Epoch 3/20, Step 350/500, Loss: 0.9462\n",
            "Epoch 3/20, Step 400/500, Loss: 0.9192\n",
            "Epoch 3/20, Step 450/500, Loss: 0.9106\n",
            "Epoch 3/20, Step 500/500, Loss: 0.8947\n",
            "--- Epoch 3 Average Loss: 0.9580 ---\n",
            "\n",
            "Sample generation:\n",
            "<RECIPE_START>\n",
            "<STEP> 1. Preheat oven to 200°F. </STEP>\n",
            "<STEP> 3. Add the cooked\n",
            "Epoch 4/20, Step 50/500, Loss: 0.8685\n",
            "Epoch 4/20, Step 100/500, Loss: 0.8685\n",
            "Epoch 4/20, Step 150/500, Loss: 0.9170\n",
            "Epoch 4/20, Step 200/500, Loss: 0.9288\n",
            "Epoch 4/20, Step 250/500, Loss: 0.8369\n",
            "Epoch 4/20, Step 300/500, Loss: 0.8775\n",
            "Epoch 4/20, Step 350/500, Loss: 0.8741\n",
            "Epoch 4/20, Step 400/500, Loss: 0.8681\n",
            "Epoch 4/20, Step 450/500, Loss: 0.8652\n",
            "Epoch 4/20, Step 500/500, Loss: 0.8901\n",
            "--- Epoch 4 Average Loss: 0.8838 ---\n",
            "\n",
            "Sample generation:\n",
            "<RECIPE_START>\n",
            "- 1/4 cup oil\n",
            "- 1 1/2 cups milk\n",
            "- 1 teaspoon cinn\n",
            "Epoch 5/20, Step 50/500, Loss: 0.8495\n",
            "Epoch 5/20, Step 100/500, Loss: 0.8680\n",
            "Epoch 5/20, Step 150/500, Loss: 0.8688\n",
            "Epoch 5/20, Step 200/500, Loss: 0.8310\n",
            "Epoch 5/20, Step 250/500, Loss: 0.8309\n",
            "Epoch 5/20, Step 300/500, Loss: 0.8448\n",
            "Epoch 5/20, Step 350/500, Loss: 0.8458\n",
            "Epoch 5/20, Step 400/500, Loss: 0.8522\n",
            "Epoch 5/20, Step 450/500, Loss: 0.8073\n",
            "Epoch 5/20, Step 500/500, Loss: 0.7997\n",
            "--- Epoch 5 Average Loss: 0.8403 ---\n",
            "\n",
            "Sample generation:\n",
            "<RECIPE_START>\n",
            "<INSTRUCTIONS_END>\n",
            "<STEP> 1. In a small saucepan, combine the flour, co\n",
            "Epoch 6/20, Step 50/500, Loss: 0.8430\n",
            "Epoch 6/20, Step 100/500, Loss: 0.8328\n",
            "Epoch 6/20, Step 150/500, Loss: 0.7983\n",
            "Epoch 6/20, Step 200/500, Loss: 0.8066\n",
            "Epoch 6/20, Step 250/500, Loss: 0.8020\n",
            "Epoch 6/20, Step 300/500, Loss: 0.8352\n",
            "Epoch 6/20, Step 350/500, Loss: 0.8073\n",
            "Epoch 6/20, Step 400/500, Loss: 0.8025\n",
            "Epoch 6/20, Step 450/500, Loss: 0.8210\n",
            "Epoch 6/20, Step 500/500, Loss: 0.8127\n",
            "--- Epoch 6 Average Loss: 0.8094 ---\n",
            "\n",
            "Sample generation:\n",
            "<RECIPE_START>\n",
            "<INGREDIENTS_START>\n",
            "- 1 cup powdered sugar (optional)\n",
            "- 1 1/2 cups \n",
            "Epoch 7/20, Step 50/500, Loss: 0.7692\n",
            "Epoch 7/20, Step 100/500, Loss: 0.7965\n",
            "Epoch 7/20, Step 150/500, Loss: 0.7930\n",
            "Epoch 7/20, Step 200/500, Loss: 0.8095\n",
            "Epoch 7/20, Step 250/500, Loss: 0.7802\n",
            "Epoch 7/20, Step 300/500, Loss: 0.7722\n",
            "Epoch 7/20, Step 350/500, Loss: 0.7769\n",
            "Epoch 7/20, Step 400/500, Loss: 0.7604\n",
            "Epoch 7/20, Step 450/500, Loss: 0.8191\n",
            "Epoch 7/20, Step 500/500, Loss: 0.7773\n",
            "--- Epoch 7 Average Loss: 0.7881 ---\n",
            "\n",
            "Sample generation:\n",
            "<RECIPE_START>\n",
            "- 2 tablespoons fresh lemon juice\n",
            "- 1 tablespoon \n",
            "Epoch 8/20, Step 50/500, Loss: 0.7704\n",
            "Epoch 8/20, Step 100/500, Loss: 0.7861\n",
            "Epoch 8/20, Step 150/500, Loss: 0.7548\n",
            "Epoch 8/20, Step 200/500, Loss: 0.7805\n",
            "Epoch 8/20, Step 250/500, Loss: 0.7796\n",
            "Epoch 8/20, Step 300/500, Loss: 0.7528\n",
            "Epoch 8/20, Step 350/500, Loss: 0.7582\n",
            "Epoch 8/20, Step 400/500, Loss: 0.7617\n",
            "Epoch 8/20, Step 450/500, Loss: 0.7718\n",
            "Epoch 8/20, Step 500/500, Loss: 0.7563\n",
            "--- Epoch 8 Average Loss: 0.7705 ---\n",
            "\n",
            "Sample generation:\n",
            "<RECIPE_START>\n",
            "<TITLE_START> Cooking Liquid <TITLE_END>\n",
            "<INGREDIENTS_START>\n",
            "- 2 (4 ounce) packages cream\n",
            "Epoch 9/20, Step 50/500, Loss: 0.7334\n",
            "Epoch 9/20, Step 100/500, Loss: 0.7673\n",
            "Epoch 9/20, Step 150/500, Loss: 0.7522\n",
            "Epoch 9/20, Step 200/500, Loss: 0.7931\n",
            "Epoch 9/20, Step 250/500, Loss: 0.7395\n",
            "Epoch 9/20, Step 300/500, Loss: 0.7264\n",
            "Epoch 9/20, Step 350/500, Loss: 0.7676\n",
            "Epoch 9/20, Step 400/500, Loss: 0.7650\n",
            "Epoch 9/20, Step 450/500, Loss: 0.7486\n",
            "Epoch 9/20, Step 500/500, Loss: 0.7556\n",
            "--- Epoch 9 Average Loss: 0.7554 ---\n",
            "\n",
            "Sample generation:\n",
            "<RECIPE_START>\n",
            "<TITLE_START> asparagus from oven and discard the puree in ba\n",
            "Epoch 10/20, Step 50/500, Loss: 0.7550\n",
            "Epoch 10/20, Step 100/500, Loss: 0.7447\n",
            "Epoch 10/20, Step 150/500, Loss: 0.7298\n",
            "Epoch 10/20, Step 200/500, Loss: 0.7673\n",
            "Epoch 10/20, Step 250/500, Loss: 0.7354\n",
            "Epoch 10/20, Step 300/500, Loss: 0.7741\n",
            "Epoch 10/20, Step 350/500, Loss: 0.7099\n",
            "Epoch 10/20, Step 400/500, Loss: 0.7475\n",
            "Epoch 10/20, Step 450/500, Loss: 0.7464\n",
            "Epoch 10/20, Step 500/500, Loss: 0.7332\n",
            "--- Epoch 10 Average Loss: 0.7432 ---\n",
            "\n",
            "Sample generation:\n",
            "<RECIPE_START>\n",
            "<TITLE_START> Black Pepper Cheese Frosting <TITLE_END>\n",
            "<INGREDIENTS_START>\n",
            "- 1 cup butter\n",
            "Epoch 11/20, Step 50/500, Loss: 0.7531\n",
            "Epoch 11/20, Step 100/500, Loss: 0.7525\n",
            "Epoch 11/20, Step 150/500, Loss: 0.7474\n",
            "Epoch 11/20, Step 200/500, Loss: 0.7263\n",
            "Epoch 11/20, Step 250/500, Loss: 0.7500\n",
            "Epoch 11/20, Step 300/500, Loss: 0.7455\n",
            "Epoch 11/20, Step 350/500, Loss: 0.7425\n",
            "Epoch 11/20, Step 400/500, Loss: 0.7118\n",
            "Epoch 11/20, Step 450/500, Loss: 0.7284\n",
            "Epoch 11/20, Step 500/500, Loss: 0.7389\n",
            "--- Epoch 11 Average Loss: 0.7347 ---\n",
            "\n",
            "Sample generation:\n",
            "<RECIPE_START>\n",
            "<TITLE_START> Parmesan Cheese Sauce <TITLE_END>\n",
            "<INGREDIENTS_START>\n",
            "- 1 1/2 lbs ground be\n",
            "Epoch 12/20, Step 50/500, Loss: 0.7418\n",
            "Epoch 12/20, Step 100/500, Loss: 0.7412\n",
            "Epoch 12/20, Step 150/500, Loss: 0.7320\n",
            "Epoch 12/20, Step 200/500, Loss: 0.7337\n",
            "Epoch 12/20, Step 250/500, Loss: 0.7601\n",
            "Epoch 12/20, Step 300/500, Loss: 0.7500\n",
            "Epoch 12/20, Step 350/500, Loss: 0.7369\n",
            "Epoch 12/20, Step 400/500, Loss: 0.7131\n",
            "Epoch 12/20, Step 450/500, Loss: 0.7401\n",
            "Epoch 12/20, Step 500/500, Loss: 0.7146\n",
            "--- Epoch 12 Average Loss: 0.7248 ---\n",
            "\n",
            "Sample generation:\n",
            "<RECIPE_START>\n",
            "<TITLE_START> Chicken And Stir Fry <TITLE_END>\n",
            "<INGREDIENTS_START>\n",
            "- 1 lb shrimp, peeled \n",
            "Epoch 13/20, Step 50/500, Loss: 0.7203\n",
            "Epoch 13/20, Step 100/500, Loss: 0.7290\n",
            "Epoch 13/20, Step 150/500, Loss: 0.7275\n",
            "Epoch 13/20, Step 200/500, Loss: 0.7216\n",
            "Epoch 13/20, Step 250/500, Loss: 0.7386\n",
            "Epoch 13/20, Step 300/500, Loss: 0.7059\n",
            "Epoch 13/20, Step 350/500, Loss: 0.6977\n",
            "Epoch 13/20, Step 400/500, Loss: 0.7196\n",
            "Epoch 13/20, Step 450/500, Loss: 0.7252\n",
            "Epoch 13/20, Step 500/500, Loss: 0.7282\n",
            "--- Epoch 13 Average Loss: 0.7183 ---\n",
            "\n",
            "Sample generation:\n",
            "<RECIPE_START>\n",
            "<TITLE_START> Lime Jalapeno Pepper Salad <TITLE_END>\n",
            "<INGREDIENTS_START>\n",
            "- 1 (14 ounce) c\n",
            "Epoch 14/20, Step 50/500, Loss: 0.6767\n",
            "Epoch 14/20, Step 100/500, Loss: 0.6896\n",
            "Epoch 14/20, Step 150/500, Loss: 0.7328\n",
            "Epoch 14/20, Step 200/500, Loss: 0.6995\n",
            "Epoch 14/20, Step 250/500, Loss: 0.7211\n",
            "Epoch 14/20, Step 300/500, Loss: 0.6975\n",
            "Epoch 14/20, Step 350/500, Loss: 0.7070\n",
            "Epoch 14/20, Step 400/500, Loss: 0.7012\n",
            "Epoch 14/20, Step 450/500, Loss: 0.6732\n",
            "Epoch 14/20, Step 500/500, Loss: 0.6869\n",
            "--- Epoch 14 Average Loss: 0.7122 ---\n",
            "\n",
            "Sample generation:\n",
            "<RECIPE_START>\n",
            "<TITLE_START> Chili Sauce <TITLE_END>\n",
            "<INGREDIENTS_START>\n",
            "- 1 cup water\n",
            "- 1 egg\n",
            "- 2 table\n",
            "Epoch 15/20, Step 50/500, Loss: 0.7022\n",
            "Epoch 15/20, Step 100/500, Loss: 0.7184\n",
            "Epoch 15/20, Step 150/500, Loss: 0.7045\n",
            "Epoch 15/20, Step 200/500, Loss: 0.7091\n",
            "Epoch 15/20, Step 250/500, Loss: 0.7192\n",
            "Epoch 15/20, Step 300/500, Loss: 0.6824\n",
            "Epoch 15/20, Step 350/500, Loss: 0.7249\n",
            "Epoch 15/20, Step 400/500, Loss: 0.7204\n",
            "Epoch 15/20, Step 450/500, Loss: 0.7117\n",
            "Epoch 15/20, Step 500/500, Loss: 0.7140\n",
            "--- Epoch 15 Average Loss: 0.7092 ---\n",
            "\n",
            "Sample generation:\n",
            "<RECIPE_START>\n",
            "<TITLE_START> Peanut Butter Mustard <TITLE_END>\n",
            "<INGREDIENTS_START>\n",
            "- 1 tablespoon butter\n",
            "Epoch 16/20, Step 50/500, Loss: 0.7043\n",
            "Epoch 16/20, Step 100/500, Loss: 0.7079\n",
            "Epoch 16/20, Step 150/500, Loss: 0.6842\n",
            "Epoch 16/20, Step 200/500, Loss: 0.7195\n",
            "Epoch 16/20, Step 250/500, Loss: 0.7314\n",
            "Epoch 16/20, Step 300/500, Loss: 0.7242\n",
            "Epoch 16/20, Step 350/500, Loss: 0.6823\n",
            "Epoch 16/20, Step 400/500, Loss: 0.7129\n",
            "Epoch 16/20, Step 450/500, Loss: 0.6989\n",
            "Epoch 16/20, Step 500/500, Loss: 0.7162\n",
            "--- Epoch 16 Average Loss: 0.7052 ---\n",
            "\n",
            "Sample generation:\n",
            "<RECIPE_START>\n",
            "<TITLE_START> Pork Dough <TITLE_END>\n",
            "<INGREDIENTS_START>\n",
            "- 3 1/2 cups chopped pecans (I u\n",
            "Epoch 17/20, Step 50/500, Loss: 0.6961\n",
            "Epoch 17/20, Step 100/500, Loss: 0.7090\n",
            "Epoch 17/20, Step 150/500, Loss: 0.7206\n",
            "Epoch 17/20, Step 200/500, Loss: 0.7364\n",
            "Epoch 17/20, Step 250/500, Loss: 0.6948\n",
            "Epoch 17/20, Step 300/500, Loss: 0.7100\n",
            "Epoch 17/20, Step 350/500, Loss: 0.6925\n",
            "Epoch 17/20, Step 400/500, Loss: 0.6740\n",
            "Epoch 17/20, Step 450/500, Loss: 0.7299\n",
            "Epoch 17/20, Step 500/500, Loss: 0.6860\n",
            "--- Epoch 17 Average Loss: 0.7009 ---\n",
            "\n",
            "Sample generation:\n",
            "<RECIPE_START>\n",
            "<TITLE_START> White Chicken And Broccoli <TITLE_END>\n",
            "<INGREDIENTS_START>\n",
            "- 1 1/2 lbs bone\n",
            "Epoch 18/20, Step 50/500, Loss: 0.7288\n",
            "Epoch 18/20, Step 100/500, Loss: 0.6889\n",
            "Epoch 18/20, Step 150/500, Loss: 0.6905\n",
            "Epoch 18/20, Step 200/500, Loss: 0.7199\n",
            "Epoch 18/20, Step 250/500, Loss: 0.7000\n",
            "Epoch 18/20, Step 300/500, Loss: 0.6991\n",
            "Epoch 18/20, Step 350/500, Loss: 0.6832\n",
            "Epoch 18/20, Step 400/500, Loss: 0.6950\n",
            "Epoch 18/20, Step 450/500, Loss: 0.6913\n",
            "Epoch 18/20, Step 500/500, Loss: 0.7097\n",
            "--- Epoch 18 Average Loss: 0.6971 ---\n",
            "\n",
            "Sample generation:\n",
            "<RECIPE_START>\n",
            "<TITLE_START> Moroccan Beef Salad <TITLE_END>\n",
            "<INGREDIENTS_START>\n",
            "- 1 cup fresh parsley, \n",
            "Epoch 19/20, Step 50/500, Loss: 0.6635\n",
            "Epoch 19/20, Step 100/500, Loss: 0.7257\n",
            "Epoch 19/20, Step 150/500, Loss: 0.6811\n",
            "Epoch 19/20, Step 200/500, Loss: 0.6892\n",
            "Epoch 19/20, Step 250/500, Loss: 0.7009\n",
            "Epoch 19/20, Step 300/500, Loss: 0.6704\n",
            "Epoch 19/20, Step 350/500, Loss: 0.6904\n",
            "Epoch 19/20, Step 400/500, Loss: 0.6959\n",
            "Epoch 19/20, Step 450/500, Loss: 0.7185\n",
            "Epoch 19/20, Step 500/500, Loss: 0.6867\n",
            "--- Epoch 19 Average Loss: 0.6926 ---\n",
            "\n",
            "Sample generation:\n",
            "<RECIPE_START>\n",
            "<TITLE_START> Peanut Butter Meatloaf <TITLE_END>\n",
            "<INGREDIENTS_START>\n",
            "- 4 tomatoes (shredd\n",
            "Epoch 20/20, Step 50/500, Loss: 0.6624\n",
            "Epoch 20/20, Step 100/500, Loss: 0.6972\n",
            "Epoch 20/20, Step 150/500, Loss: 0.7023\n",
            "Epoch 20/20, Step 200/500, Loss: 0.7023\n",
            "Epoch 20/20, Step 250/500, Loss: 0.6823\n",
            "Epoch 20/20, Step 300/500, Loss: 0.6764\n",
            "Epoch 20/20, Step 350/500, Loss: 0.6771\n",
            "Epoch 20/20, Step 400/500, Loss: 0.6895\n",
            "Epoch 20/20, Step 450/500, Loss: 0.6811\n",
            "Epoch 20/20, Step 500/500, Loss: 0.7128\n",
            "--- Epoch 20 Average Loss: 0.6907 ---\n",
            "\n",
            "Sample generation:\n",
            "<RECIPE_START>\n",
            "<TITLE_START> Apple With Currants <TITLE_END>\n",
            "<INGREDIENTS_START>\n",
            "- 2 large eggs\n",
            "- 1 1/2 \n",
            "\n",
            "Training finished.\n"
          ]
        },
        {
          "data": {
            "image/png": "[encoded data removed]",
            "text/plain": [
              "<Figure size 1200x500 with 2 Axes>"
            ]
          },
          "metadata": {},
          "output_type": "display_data"
        }
      ],
      "source": [
        "# Naive function to generate tokens\n",
        "def generate_tokens_naive(params, seed_text, length, temperature=1.0):\n",
        "    input_seq = new_str_to_int[seed_text]\n",
        "    generated = [input_seq]\n",
        "\n",
        "    for _ in range(length):\n",
        "        x = jnp.array(generated[-seq_len:])  # Use all tokens in generated\n",
        "        x = x.reshape(1, -1)  # (1, seq_len)\n",
        "        logits = apply_model(params, x, training=False)\n",
        "        logits = logits[:, -1, :] / temperature\n",
        "        probs = jax.nn.softmax(logits)\n",
        "        key = jax.random.PRNGKey(np.random.randint(0, 10000))\n",
        "        next_token = jax.random.categorical(key, logits)\n",
        "        generated.append(int(next_token[0]))\n",
        "\n",
        "    return ''.join([new_int_to_str[i] for i in generated])\n",
        "\n",
        "## Training Loop\n",
        "num_epochs = 20\n",
        "steps_per_epoch = 500\n",
        "\n",
        "loss_history = []\n",
        "perplexity_history = []\n",
        "\n",
        "print(f\"\\nStart training loop for {num_epochs} epochs, {steps_per_epoch} steps/epoch\")\n",
        "for epoch in range(num_epochs):\n",
        "    key_epoch, key_batch_train = jax.random.split(key_batch_train)\n",
        "    total_epoch_loss = 0.0\n",
        "\n",
        "    for step in range(steps_per_epoch):\n",
        "        key_step, key_batch_train = jax.random.split(key_batch_train)\n",
        "        # Get a batch of data\n",
        "        x_batch, y_batch = get_batch(subset_encoded, seq_len, batch_size, key_step)\n",
        "        # Perform a training step\n",
        "        params, opt_state, loss_value = train_step(params, opt_state, x_batch, y_batch, key_step)\n",
        "\n",
        "        total_epoch_loss += loss_value\n",
        "\n",
        "        if (step + 1) % 50 == 0:\n",
        "            print(f\"Epoch {epoch+1}/{num_epochs}, Step {step+1}/{steps_per_epoch}, Loss: {loss_value:.4f}\")\n",
        "\n",
        "    avg_epoch_loss = total_epoch_loss / steps_per_epoch\n",
        "    loss_history.append(avg_epoch_loss)\n",
        "    perplexity_history.append(jnp.exp(avg_epoch_loss))\n",
        "\n",
        "    print(f\"--- Epoch {epoch+1} Average Loss: {avg_epoch_loss:.4f} ---\")\n",
        "    print(\"\\nSample generation:\")\n",
        "    print(generate_tokens_naive(params, seed_text=\"<RECIPE_START>\", length=50, temperature=0.6))\n",
        "\n",
        "print(\"\\nTraining finished.\")\n",
        "\n",
        "epochs = list(range(1, num_epochs + 1))\n",
        "\n",
        "plt.figure(figsize=(12, 5))\n",
        "\n",
        "plt.subplot(1, 2, 1)\n",
        "plt.plot(epochs, loss_history, marker='o')\n",
        "plt.title(\"Training Loss per Epoch\")\n",
        "plt.xlabel(\"Epoch\")\n",
        "plt.ylabel(\"Loss\")\n",
        "\n",
        "plt.subplot(1, 2, 2)\n",
        "plt.plot(epochs, perplexity_history, marker='o', color='orange')\n",
        "plt.title(\"Training Perplexity per Epoch\")\n",
        "plt.xlabel(\"Epoch\")\n",
        "plt.ylabel(\"Perplexity\")\n",
        "\n",
        "plt.tight_layout()\n",
        "plt.show()"
      ]
    },
    {
      "cell_type": "code",
      "execution_count": null,
      "metadata": {
        "id": "CF3qcM-D8PBd"
      },
      "outputs": [],
      "source": [
        "# Save the current state (parameters + optimizer state)\n",
        "training_state = {\n",
        "    \"params\": params,\n",
        "    \"opt_state\": opt_state\n",
        "}\n",
        "\n",
        "#with open(\"/content/drive/MyDrive/Colab Notebooks/NNDS_fh/checkpoint1.msgpack\", \"wb\") as f:\n",
        "#    f.write(flax.serialization.to_bytes(training_state))\n",
        "\n",
        "with open(\"/content/drive/MyDrive/Colab Notebooks/NNDS_fh/checkpoint1.msgpack\", \"rb\") as f:\n",
        "    bytes_data = f.read()\n",
        "\n",
        "restored_state = flax.serialization.from_bytes(training_state, bytes_data)\n",
        "params = restored_state[\"params\"]"
      ]
    },
    {
      "cell_type": "markdown",
      "metadata": {
        "id": "l4X35ywFMKop"
      },
      "source": [
        "### Embeddings Analysis\n",
        "Check learned embeddings to ensure model learns meaningful character relationships, in order to have an additional quality indicator of the model"
      ]
    },
    {
      "cell_type": "code",
      "execution_count": null,
      "metadata": {
        "colab": {
          "base_uri": "https://localhost:8080/",
          "height": 508
        },
        "id": "WbLFiekdMG-h",
        "outputId": "9bbf08f4-e1fe-456e-f49f-8800f923f335"
      },
      "outputs": [
        {
          "name": "stdout",
          "output_type": "stream",
          "text": [
            "Shape: (132, 64)\n",
            "Max: 1.9322809 Min: -1.9731464\n"
          ]
        },
        {
          "data": {
            "image/png": "[encoded data removed]",
            "text/plain": [
              "<Figure size 640x480 with 1 Axes>"
            ]
          },
          "metadata": {},
          "output_type": "display_data"
        }
      ],
      "source": [
        "W_emb = params[\"W_emb\"]\n",
        "print(\"Shape:\", W_emb.shape)\n",
        "print(\"Max:\", W_emb.max(), \"Min:\", W_emb.min())\n",
        "\n",
        "plt.hist(W_emb.flatten(), bins=100)\n",
        "plt.title(\"Embedding Value Distribution\")\n",
        "plt.xlabel(\"Value\")\n",
        "plt.ylabel(\"Frequency\")\n",
        "plt.show()"
      ]
    },
    {
      "cell_type": "code",
      "execution_count": null,
      "metadata": {
        "id": "4WldzdmIfJs1"
      },
      "outputs": [],
      "source": [
        "# Assign token to category (code written by ChatGPT)\n",
        "def categorize_token(tok):\n",
        "    if tok in string.ascii_letters:\n",
        "        return 'letter'\n",
        "    elif tok in string.digits:\n",
        "        return 'digit'\n",
        "    elif tok in string.punctuation or tok in ['\\n', '\\t', ' ']:\n",
        "        return 'punctuation'\n",
        "    elif tok.startswith('<') and tok.endswith('>'):\n",
        "        return 'special'\n",
        "    else:\n",
        "        return 'other'\n",
        "\n",
        "# Assign categories\n",
        "categories = {}\n",
        "category_colors = {'letter': 'blue', 'digit': 'green', 'punctuation': 'orange', 'special': 'red', 'other': 'gray'}\n",
        "\n",
        "plot_indices = []\n",
        "plot_colors = []\n",
        "plot_labels = []\n",
        "\n",
        "for idx in range(vocab_size):\n",
        "    tok = new_int_to_str[idx]\n",
        "    cat = categorize_token(tok)\n",
        "    categories.setdefault(cat, []).append(idx)\n",
        "    plot_indices.append(idx)\n",
        "    plot_colors.append(category_colors[cat])\n",
        "    plot_labels.append(cat)"
      ]
    },
    {
      "cell_type": "code",
      "execution_count": null,
      "metadata": {
        "colab": {
          "base_uri": "https://localhost:8080/",
          "height": 607
        },
        "id": "hb2nUjwRMRQ0",
        "outputId": "bf2929cc-e1d2-4563-9121-85c9c51fc4c5"
      },
      "outputs": [
        {
          "data": {
            "image/png": "[encoded data removed]",
            "text/plain": [
              "<Figure size 1200x600 with 2 Axes>"
            ]
          },
          "metadata": {},
          "output_type": "display_data"
        }
      ],
      "source": [
        "W_np = np.array(W_emb)\n",
        "\n",
        "# Scale\n",
        "W_filtered = W_np[plot_indices]\n",
        "W_scaled = StandardScaler().fit_transform(W_filtered)\n",
        "\n",
        "# PCA\n",
        "W_pca = PCA(n_components=2).fit_transform(W_scaled)\n",
        "# t-SNE\n",
        "W_tsne = TSNE(n_components=2).fit_transform(W_scaled)\n",
        "\n",
        "# Plot (code written by ChatGPT)\n",
        "fig, axs = plt.subplots(1, 2, figsize=(12, 6))\n",
        "for cat, color in category_colors.items():\n",
        "    cat_indices = [i for i, label in enumerate(plot_labels) if label == cat]\n",
        "    axs[0].scatter(W_pca[cat_indices, 0], W_pca[cat_indices, 1], label=cat, color=color, alpha=0.7)\n",
        "axs[0].set_title(\"PCA of Character Embeddings\")\n",
        "axs[0].legend()\n",
        "axs[0].grid(True)\n",
        "\n",
        "for cat, color in category_colors.items():\n",
        "    cat_indices = [i for i, label in enumerate(plot_labels) if label == cat]\n",
        "    axs[1].scatter(W_tsne[cat_indices, 0], W_tsne[cat_indices, 1], label=cat, color=color, alpha=0.7)\n",
        "axs[1].set_title(\"t-SNE of Character Embeddings\")\n",
        "axs[1].legend()\n",
        "axs[1].grid(True)\n",
        "\n",
        "plt.tight_layout()\n",
        "plt.show()"
      ]
    },
    {
      "cell_type": "markdown",
      "metadata": {
        "id": "Mc6Gq5vFlh7Y"
      },
      "source": [
        "The different classes of tokens appear well separated enough"
      ]
    },
    {
      "cell_type": "code",
      "execution_count": null,
      "metadata": {
        "colab": {
          "base_uri": "https://localhost:8080/",
          "height": 465
        },
        "id": "bEEZJS40NNZn",
        "outputId": "ae9cdfad-03a9-46d6-c599-18b040b0c0be"
      },
      "outputs": [
        {
          "data": {
            "image/png": "[encoded data removed]",
            "text/plain": [
              "<Figure size 640x480 with 2 Axes>"
            ]
          },
          "metadata": {},
          "output_type": "display_data"
        }
      ],
      "source": [
        "# Compute and plot cosine similarity\n",
        "cos_sim = cosine_similarity(W_emb)\n",
        "sns.heatmap(cos_sim, cmap=\"viridis\")\n",
        "plt.title(\"Cosine Similarity\")\n",
        "plt.show()"
      ]
    },
    {
      "cell_type": "markdown",
      "metadata": {
        "id": "q_3UkXACmX87"
      },
      "source": [
        "Importantly, it is possible to notice upper case and lower case letter embeddings have very high cosine similarity. Also special characters embeddings exhibit significant similarity."
      ]
    },
    {
      "cell_type": "markdown",
      "metadata": {
        "id": "IgNW5JzWsMPj"
      },
      "source": [
        "## Autoregressive generation\n",
        "\n",
        "I implemented an autoregressive text generation function that generates sequences token by token using the LSTM model built previously. At each step the LSTM updates its hidden state and computes a distribution over the vocabulary, that uses to sample the next token. I introduce the possibility to control the randomness using the temperature parameter. With temperature = 0, this is equivalent to greedy sampling, while as the temperature increases it gets closers to random sampling. This function is more efficient then the `generate_tokens_naive` function because we avoid recomputing all previous steps at each iteration: each token is processed only once and the hidden and cell states are carried step by step."
      ]
    },
    {
      "cell_type": "code",
      "execution_count": null,
      "metadata": {
        "id": "NWo6KkM0K-1T"
      },
      "outputs": [],
      "source": [
        "# Function to generate tokens in autoregressive fashion\n",
        "def generate_tokens(params, start_token_ids, generate_length, temperature=1.0, key=jax.random.PRNGKey(0)):\n",
        "    embedding_dim = params['W_emb'].shape[-1]\n",
        "    hidden_dim = params['W_out'].shape[0]\n",
        "\n",
        "    # Initialize hidden and cell state\n",
        "    h_t = jnp.zeros((1, hidden_dim))\n",
        "    c_t = jnp.zeros((1, hidden_dim))\n",
        "\n",
        "    # Prime model with start tokens\n",
        "    for token_id in start_token_ids[:-1]:\n",
        "        x_t = params['W_emb'][token_id].reshape(1, -1)\n",
        "        (h_t, c_t), _ = lstm_cell(\n",
        "            {'kernel_ifco': params['kernel_ifco'], 'b_ifco': params['b_ifco']},\n",
        "            (h_t, c_t),\n",
        "            x_t\n",
        "        )\n",
        "\n",
        "    # Last token in the prompt is the input for generation\n",
        "    last_token_id = start_token_ids[-1]\n",
        "    x_t = params['W_emb'][last_token_id].reshape(1, -1)\n",
        "\n",
        "    # Initialize generated list\n",
        "    generated = [int(s_id) for s_id in start_token_ids]\n",
        "\n",
        "    for i in range(generate_length):\n",
        "        # Forward one step of the LSTM\n",
        "        (h_t, c_t), h_out = lstm_cell(\n",
        "            {'kernel_ifco': params['kernel_ifco'], 'b_ifco': params['b_ifco']},\n",
        "            (h_t, c_t),\n",
        "            x_t\n",
        "        )\n",
        "\n",
        "        # Project to logits\n",
        "        logits = jnp.dot(h_out, params['W_out']) + params['b_out']  # (1, vocab_size)\n",
        "\n",
        "        # Apply temperature and sample\n",
        "        logits = logits / temperature\n",
        "        probs = jax.nn.softmax(logits, axis=-1)\n",
        "\n",
        "        key, subkey = jax.random.split(key)\n",
        "        next_token_id = jax.random.categorical(subkey, logits).squeeze()\n",
        "\n",
        "        # Append to generated sequence\n",
        "        generated.append(int(next_token_id))\n",
        "\n",
        "        # Prepare next input\n",
        "        x_t = params['W_emb'][next_token_id].reshape(1, -1)\n",
        "\n",
        "    return generated"
      ]
    },
    {
      "cell_type": "code",
      "execution_count": null,
      "metadata": {
        "colab": {
          "base_uri": "https://localhost:8080/"
        },
        "id": "SF3NbSQ-7Hf9",
        "outputId": "026f79ce-3298-4bd2-de42-07e41a756fdc"
      },
      "outputs": [
        {
          "data": {
            "text/plain": [
              "[94, 87, 104, 104, 79]"
            ]
          },
          "execution_count": 35,
          "metadata": {},
          "output_type": "execute_result"
        }
      ],
      "source": [
        "# Function to encode strings\n",
        "def encode(str, vocab):\n",
        "    return [vocab[char] for char in str]\n",
        "\n",
        "encode('pizza', new_str_to_int)"
      ]
    },
    {
      "cell_type": "code",
      "execution_count": null,
      "metadata": {
        "colab": {
          "base_uri": "https://localhost:8080/"
        },
        "id": "huctxyQV4n9d",
        "outputId": "066316d8-4396-4dd9-867c-8a23b6bd63ae"
      },
      "outputs": [
        {
          "name": "stdout",
          "output_type": "stream",
          "text": [
            "<RECIPE_START>\n",
            "<TITLE_START> Pasta <TITLE_END>\n",
            "<INGREDIENTS_START>\n",
            "- 4 tablespoons chopped onions\n",
            "- 2 tablespoons lakga cheese\n",
            "- 2 heads fresh green pepper, chopped\n",
            "- 1 large lemon, zested and juiced\n",
            "- 1/2 cup brown sugar, finely chopped\n",
            "- 1/2 cup sour cream\n",
            "- 1 cup mayonnaise\n",
            "- 1/4 cup chopped fresh dill (red pepper. </STEP>\n",
            "<STEP> 3. Coarsely freshly ground black pepper\n",
            "- 1 pinch ham, cubed\n",
            "<INGREDIENTS_END>\n",
            "<INSTRUCTIONS_START>\n",
            "<STEP> 1. Mix the cream cheese with the sode only onto a large seraace bottle and warm the sauce over medium heat until the eggs are wilted, about 15 minutes. </STEP>\n",
            "<STEP> 2. Add the butter\n"
          ]
        }
      ],
      "source": [
        "# Set function params\n",
        "start_token_ids = [new_str_to_int['<RECIPE_START>'], new_str_to_int['\\n'], new_str_to_int['<TITLE_START>'], new_str_to_int[' ']]\n",
        "start_token_ids += encode('Pasta', new_str_to_int)\n",
        "start_token_ids += [new_str_to_int[' '], new_str_to_int['<TITLE_END>']]\n",
        "\n",
        "generate_length = 500\n",
        "temperature = 0.8\n",
        "key = jax.random.PRNGKey(42)\n",
        "\n",
        "generated_ids = generate_tokens(params, start_token_ids, generate_length, temperature, key)\n",
        "decode(generated_ids, new_int_to_str)"
      ]
    },
    {
      "cell_type": "code",
      "execution_count": null,
      "metadata": {
        "colab": {
          "base_uri": "https://localhost:8080/"
        },
        "id": "dDWWBceDBRUn",
        "outputId": "fe859eae-bc20-4e40-9927-85c3c53ef174"
      },
      "outputs": [
        {
          "name": "stdout",
          "output_type": "stream",
          "text": [
            "3.68 s ± 596 ms per loop (mean ± std. dev. of 7 runs, 1 loop each)\n"
          ]
        }
      ],
      "source": [
        "%timeit generate_tokens(params, start_token_ids, generate_length, temperature, key)"
      ]
    },
    {
      "cell_type": "code",
      "execution_count": null,
      "metadata": {
        "colab": {
          "base_uri": "https://localhost:8080/"
        },
        "id": "kCN86rwkoJBu",
        "outputId": "5a171fc0-594d-43d9-9b28-147e46cf05b2"
      },
      "outputs": [
        {
          "name": "stdout",
          "output_type": "stream",
          "text": [
            "<RECIPE_START>\n",
            "<TITLE_START> Stil Graed Chicken Rice <TITLE_END>\n",
            "<INGREDIENTS_START>\n",
            "- 1 lb ground beef\n",
            "- 2 slices cabbage rounds\n",
            "- 1/2 cup chopped onion\n",
            "- 1 1/2 cups chicken stock\n",
            "- 2 garlic cloves, minced\n",
            "- 1/4 teaspoon pepper, ground\n",
            "- 2 tablespoon beef broth, and or slivered\n",
            "- 1 (8 ounce) package cheese (about 1 cup)\n",
            "<INGREDIENTS_END>\n",
            "<INSTRUCTIONS_START>\n",
            "<STEP> 1. Season the pancakes with cocoa to your taste. </STEP>\n",
            "<STEP> 2. Marinate the rest of the water demender on top of the cooker for 10 minutes in a don't full of the burner of). </STEP>\n",
            "<STEP> 3. Stir in the orange juice, oil, thyme and 2 teaspoons lemon juice and onions. Let cook for 3-4 hours to cook or your cooking in the fridge, then add the food steaks and cook until potatoes are tender, about 5 minutes. </STEP>\n",
            "<STEP> 4. Stir in the orange juice and season with salt and pepper. </STEP>\n",
            "<STEP> 5. When the pasta is evaporated, combine the sugar and vegetable stock. </STEP>\n",
            "<STEP> 6. Return to the boil, and cook for 15 minutes. </STEP>\n",
            "<STEP> 7. Serve the pasta with the crab meat, as in the edge (not holes) and save the remaining liquid in the center of the ricotta mixture. Set aside. </STEP>\n",
            "<STEP> 8. Chutney: Chop the most of the salmon. </STEP>\n",
            "<STEP> 9. Melt the egg wash and add the pork. </STEP>\n",
            "<STEP> 10. When the oil is browned, turn the heat down to simmer and stir until the meat is ton stirred in \n"
          ]
        }
      ],
      "source": [
        "# Changing temperature and increasing sequence length\n",
        "start_token_ids = [new_str_to_int['<RECIPE_START>']]\n",
        "generate_length = 1200\n",
        "temperature = 0.9\n",
        "key = jax.random.PRNGKey(42)\n",
        "\n",
        "generated_ids = generate_tokens(params, start_token_ids, generate_length, temperature, key)\n",
        "decode(generated_ids, new_int_to_str)"
      ]
    },
    {
      "cell_type": "markdown",
      "metadata": {
        "id": "ssXRcGLs9E_5"
      },
      "source": [
        "I inlcude a top-k sampling strategy, that should improve coherence and diversity by restricting sampling to the most probable tokens."
      ]
    },
    {
      "cell_type": "code",
      "execution_count": null,
      "metadata": {
        "id": "dWj022iZ2OFd"
      },
      "outputs": [],
      "source": [
        "# Function to generate tokens in autoregressive fashion using top-k sampling strategy\n",
        "def generate_tokens_topk(params, start_token_ids, generate_length, temperature=1.0, top_k=10, key=jax.random.PRNGKey(0)):\n",
        "    embedding_dim = params['W_emb'].shape[-1]\n",
        "    hidden_dim = params['W_out'].shape[0]\n",
        "\n",
        "    h_t = jnp.zeros((1, hidden_dim))\n",
        "    c_t = jnp.zeros((1, hidden_dim))\n",
        "\n",
        "    # Prime model with start tokens\n",
        "    for token_id in start_token_ids[:-1]:\n",
        "        x_t = params['W_emb'][token_id].reshape(1, -1)\n",
        "        (h_t, c_t), _ = lstm_cell(\n",
        "            {'kernel_ifco': params['kernel_ifco'], 'b_ifco': params['b_ifco']},\n",
        "            (h_t, c_t),\n",
        "            x_t\n",
        "        )\n",
        "\n",
        "    # Last token in the prompt is the input for generation\n",
        "    last_token_id = start_token_ids[-1]\n",
        "    x_t = params['W_emb'][last_token_id].reshape(1, -1)\n",
        "\n",
        "    # Initialize generated list\n",
        "    generated = [int(s_id) for s_id in start_token_ids]\n",
        "\n",
        "    for i in range(generate_length):\n",
        "        # LSTM step\n",
        "        (h_t, c_t), h_out = lstm_cell(\n",
        "            {'kernel_ifco': params['kernel_ifco'], 'b_ifco': params['b_ifco']},\n",
        "            (h_t, c_t),\n",
        "            x_t\n",
        "        )\n",
        "\n",
        "        # Compute logits and apply temperature\n",
        "        logits = jnp.dot(h_out, params['W_out']) + params['b_out']  # (1, vocab_size)\n",
        "        logits = logits / temperature\n",
        "        logits = logits.squeeze()  # (vocab_size,)\n",
        "\n",
        "        # Top-k sampling\n",
        "        topk_values, topk_indices = jax.lax.top_k(logits, top_k)  # (k,)\n",
        "        topk_probs = jax.nn.softmax(topk_values)\n",
        "\n",
        "        key, subkey = jax.random.split(key)\n",
        "        sampled_index = jax.random.choice(subkey, top_k, p=topk_probs)\n",
        "        next_token_id = topk_indices[sampled_index]\n",
        "\n",
        "        # Append and prepare next input\n",
        "        generated.append(int(next_token_id))\n",
        "        x_t = params['W_emb'][next_token_id].reshape(1, -1)\n",
        "\n",
        "    return generated"
      ]
    },
    {
      "cell_type": "code",
      "execution_count": null,
      "metadata": {
        "colab": {
          "base_uri": "https://localhost:8080/"
        },
        "id": "6asiyBOf8jWV",
        "outputId": "59c3c80a-0920-4f63-f78a-3704f8724bc9"
      },
      "outputs": [
        {
          "name": "stdout",
          "output_type": "stream",
          "text": [
            "<RECIPE_START>\n",
            "<TITLE_START> Pizza Margherita <TITLE_END>\n",
            "<INGREDIENTS_START>\n",
            "- 1/4 cup chopped fresh parsley\n",
            "- 1/2 cup sugar\n",
            "- 2 cups water\n",
            "- 1 (14 ounce) can beer\n",
            "- 1/2 cup sugar\n",
            "<INGREDIENTS_END>\n",
            "<INSTRUCTIONS_START>\n",
            "<STEP> 1. Preheat oven to 325°F. </STEP>\n",
            "<STEP> 2. Preheat oven to 350 degrees. </STEP>\n",
            "<STEP> 3. In a large mixing bowl, whisk together egg yolks and vanilla until well mixed. </STEP>\n",
            "<STEP> 4. Combine sugar, butter and vegetable oil in a deep baking dish. </STEP>\n",
            "<STEP> 5. Bake at 350 for 1 hour. </STEP>\n",
            "<STEP> 8. Roll out on lightly floured surface to a 11/2 cup serving dish. </STEP>\n",
            "<STEP> 9. Bake custard for 15 minutes. </STEP>\n",
            "<STEP> 10. Stir one side on a rack \n"
          ]
        }
      ],
      "source": [
        "# Set function params\n",
        "start_token_ids = [new_str_to_int['<RECIPE_START>'], new_str_to_int['\\n'], new_str_to_int['<TITLE_START>'], new_str_to_int[' ']]\n",
        "start_token_ids += encode('Pizza Margherita', new_str_to_int)\n",
        "start_token_ids += [new_str_to_int[' '], new_str_to_int['<TITLE_END>']]\n",
        "\n",
        "generate_length = 500\n",
        "temperature = 0.7\n",
        "top_k = 10\n",
        "key = jax.random.PRNGKey(42)\n",
        "\n",
        "generated_ids =  generate_tokens_topk(params, start_token_ids, generate_length, temperature, top_k, key)\n",
        "decode(generated_ids, new_int_to_str)"
      ]
    },
    {
      "cell_type": "code",
      "execution_count": null,
      "metadata": {
        "colab": {
          "base_uri": "https://localhost:8080/"
        },
        "id": "nJ0tbQPzBt78",
        "outputId": "a60620bc-a7e0-4fc3-cf04-3f7f29688620"
      },
      "outputs": [
        {
          "name": "stdout",
          "output_type": "stream",
          "text": [
            "6.26 s ± 1.48 s per loop (mean ± std. dev. of 7 runs, 1 loop each)\n"
          ]
        }
      ],
      "source": [
        "%timeit generate_tokens_topk(params, start_token_ids, generate_length, temperature, top_k, key)"
      ]
    },
    {
      "cell_type": "code",
      "execution_count": null,
      "metadata": {
        "colab": {
          "base_uri": "https://localhost:8080/"
        },
        "id": "Jz8oMNBHB9Ja",
        "outputId": "bef3977f-d26c-4d9a-aa33-8f4bec6cee85"
      },
      "outputs": [
        {
          "name": "stdout",
          "output_type": "stream",
          "text": [
            "<RECIPE_START>\n",
            "<TITLE_START> Chile Celery <TITLE_END>\n",
            "<INGREDIENTS_START>\n",
            "- 1 tablespoon olive oil\n",
            "- 1 tablespoon soy sauce\n",
            "- 1 teaspoon garlic powder\n",
            "- 1 teaspoon salt\n",
            "- 1 teaspoon ground cumin\n",
            "- 1/2 teaspoon crushed red pepper flakes\n",
            "- 2 cups mayonnaise\n",
            "- 1/4 cup olive oil\n",
            "- 1 pinch cayenne pepper\n",
            "- 1/3 teaspoon salt\n",
            "<INGREDIENTS_END>\n",
            "<INSTRUCTIONS_START>\n",
            "<STEP> 1. In heavy medium saucepan beat together the cream of mushroom, soy sauce, brown sugar, soy sauce, and potatoes with the remaining butter and simmer for 10 minutes. </STEP>\n",
            "<STEP> 2. Meanwhile, heat the butter in a large saucepan over med-high heat. </STEP>\n",
            "<STEP> 3. Pour the crumbs into a large mixing bowl. </STEP>\n",
            "<STEP> 4. Add the olive oil, cloves and onion to soaked potatoes. </STEP>\n",
            "<STEP> 5. Add the crab and stock and cook. </STEP>\n",
            "<STEP> 8. Stir in the bananally, and the mushrooms/frozen ginger ale and then stir. </STEP>\n",
            "<STEP> 9. Pour in the wet to boil, and cover the pan with the bacon and charting up on the side of the mushrooms on bag into blanc. </STEP>\n",
            "<STEP> 10. Turn off the heat. </STEP>\n",
            "<STEP> 11. Place the casserole on the plate and top with the remaining water mixture, and toss to combine. </STEP>\n",
            "<STEP> 12. Arrange the flour in a medium bowl, toss again and let boil them until the corn ara no longer that the topping is creamy. </STEP>\n",
            "<INSTRUCTIONS_END>\n",
            "<RECIPE_END>\n",
            "\n",
            "<RECIPE_START>\n",
            "<TITLE_START> Sealed Pork Tenderloin <TITLE_END>\n",
            "<INGREDIENTS_START>\n",
            "- 1/4 cup oil\n",
            "- 1 (8 ounce\n"
          ]
        }
      ],
      "source": [
        "start_token_ids = [new_str_to_int['<RECIPE_START>']]\n",
        "generate_length = 1200\n",
        "temperature = 0.9\n",
        "top_k = 10\n",
        "key = jax.random.PRNGKey(42)\n",
        "\n",
        "generated_ids =  generate_tokens_topk(params, start_token_ids, generate_length, temperature, top_k, key)\n",
        "decode(generated_ids, new_int_to_str)"
      ]
    },
    {
      "cell_type": "markdown",
      "metadata": {
        "id": "fLvDVn-5lfFu"
      },
      "source": [
        "Compare with naive token generator function that recomputes the model on the entire sequence at each step"
      ]
    },
    {
      "cell_type": "code",
      "execution_count": null,
      "metadata": {
        "colab": {
          "base_uri": "https://localhost:8080/"
        },
        "id": "Y632Yzh6JHgX",
        "outputId": "423d315e-43be-4a2b-ff30-ed8d677386d1"
      },
      "outputs": [
        {
          "name": "stdout",
          "output_type": "stream",
          "text": [
            "<RECIPE_START>\n",
            "<TITLE_START> Beans And Cheese <TITLE_END>\n",
            "<INGREDIENTS_START>\n",
            "- 1 lb steak sharp cheese\n",
            "- 1/2 cup chopped onion\n",
            "- 1/4 cup fresh ginger, grated\n",
            "- 2 cloves garlic, minced\n",
            "- 1 teaspoon salt\n",
            "- 1/2 teaspoon pepper\n",
            "- 1/2 - 1/4 teaspoon garlic powder\n",
            "- 1/2 cup corn olive oil\n",
            "- 1 tablespoon of flour\n",
            "- 1/2 cup parmesan cheese, grated\n",
            "<INGREDIENTS_END>\n",
            "<INSTRUCTIONS_START>\n",
            "<STEP> 1. Preheat oven to 350 degrees. </STEP>\n",
            "<STEP> 2. Place bowl of bread mixture in a bowl with a spoon to add more sauce or blackberries and mix well. </STEP>\n",
            "<STEP> 3. Pour batter into prepared baking dish. </STEP>\n",
            "<STEP> 4. Bake at 350°F \n",
            "CPU times: user 3min 18s, sys: 6.25 s, total: 3min 25s\n",
            "Wall time: 4min 4s\n"
          ]
        }
      ],
      "source": [
        "%time print(generate_tokens_naive(params, seed_text=\"<RECIPE_START>\", length=500, temperature=0.6))"
      ]
    },
    {
      "cell_type": "markdown",
      "metadata": {
        "id": "LITyP_5Y9rfB"
      },
      "source": [
        "This sampling strategy is much slower, yet the output quality looks the same"
      ]
    }
  ],
  "metadata": {
    "accelerator": "GPU",
    "colab": {
      "collapsed_sections": [
        "XXUhR5ZH9PKQ"
      ],
      "gpuType": "T4",
      "provenance": []
    },
    "kernelspec": {
      "display_name": "Python 3",
      "name": "python3"
    },
    "language_info": {
      "name": "python"
    }
  },
  "nbformat": 4,
  "nbformat_minor": 0
}
